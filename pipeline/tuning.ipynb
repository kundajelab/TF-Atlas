{
 "cells": [
  {
   "cell_type": "code",
   "execution_count": null,
   "metadata": {},
   "outputs": [],
   "source": [
    "import os\n",
    "import subprocess as sp\n",
    "import json\n",
    "import glob\n",
    "from bayes_opt import BayesianOptimization"
   ]
  },
  {
   "cell_type": "code",
   "execution_count": null,
   "metadata": {},
   "outputs": [],
   "source": [
    "EXPERIMENT = os.environ[\"EXPERIMENT\"]\n",
    "ARCH_NAME = os.environ[\"ARCH_NAME\"]\n",
    "SEQGEN_NAME = os.environ[\"SEQGEN_NAME\"]\n",
    "SPLITS_FILE_PATH = os.environ[\"SPLITS_FILE_PATH\"]\n",
    "PEAKS = os.environ[\"PEAKS\"]\n",
    "LEARNING_RATE = os.environ[\"LEARNING_RATE\"]\n",
    "COUNTS_LOSS_WEIGHT = os.environ[\"COUNTS_LOSS_WEIGHT\"]\n",
    "EPOCHS = os.environ[\"EPOCHS\"]\n",
    "REFERENCE_DIR = os.environ[\"REFERENCE_DIR\"]\n",
    "TUNING_DIR = os.environ[\"TUNING_DIR\"]\n",
    "CHROMS = os.environ[\"CHROMS\"]\n"
   ]
  },
  {
   "cell_type": "code",
   "execution_count": null,
   "metadata": {},
   "outputs": [],
   "source": [
    "def train_model(learning_rate,counts_loss_weight):\n",
    "    comm = [\"train\"]\n",
    "    comm += [\"--input-data\", EXPERIMENT+\".json\"]\n",
    "    comm += [\"--stranded\"]\n",
    "    comm += [\"--output-dir\", TUNING_DIR]\n",
    "    comm += [\"--reference-genome\", REFERENCE_DIR+\"/genome.fa\"]\n",
    "    comm += [\"--chrom-sizes\", REFERENCE_DIR+\"/chrom.sizes\"]\n",
    "    comm += [\"--chroms\", CHROMS]\n",
    "    comm += [\"--shuffle\"]\n",
    "    comm += [\"--epochs\", \"5\"]\n",
    "    comm += [\"--splits\", SPLITS_FILE_PATH]\n",
    "    comm += [\"--model-arch-name\", ARCH_NAME]\n",
    "    comm += [\"--sequence-generator-name\", SEQGEN_NAME]\n",
    "    comm += [\"--model-output-filename\", EXPERIMENT+f'_lr_{str(learning_rate)}_cw_{str(counts_loss_weight)}']\n",
    "    comm += [\"--input-seq-len\", \"2114\"]\n",
    "    comm += [\"--output-len\", \"1000\"]\n",
    "    comm += [\"--filters\", \"64\"]\n",
    "    comm += [\"--threads\", \"2\"]\n",
    "    comm += [\"--learning-rate\", str(learning_rate)]\n",
    "    comm += [\"--counts-loss-weight\", str(counts_loss_weight)]\n",
    "\n",
    "    proc = sp.Popen(\" \".join(comm),stderr=sp.PIPE,shell=True)\n",
    "    return proc.communicate()\n",
    "    \n",
    "def get_model_loss(history_file):\n",
    "    data = json.load(open(history_file, 'r'))\n",
    "    loss=data['val_profile_predictions_loss'][\"4\"]+(100*data['val_logcount_predictions_loss'][\"4\"])\n",
    "    return -loss\n",
    "\n",
    "def train_model_and_return_model_loss(learning_rate,counts_loss_weight):\n",
    "    res = train_model(learning_rate,counts_loss_weight)\n",
    "    history_file=glob.glob(TUNING_DIR+\"/\"+EXPERIMENT+f'_lr_{str(learning_rate)}_cw_{str(counts_loss_weight)}'+\"*.history.json\")[0]\n",
    "    loss = get_model_loss(history_file)\n",
    "    print(EXPERIMENT+f'_lr_{str(learning_rate)}_cw_{str(counts_loss_weight)}')\n",
    "    print(loss)\n",
    "    return loss"
   ]
  },
  {
   "cell_type": "code",
   "execution_count": null,
   "metadata": {},
   "outputs": [],
   "source": [
    "#Bounded region of parameter space\n",
    "pbounds = {'learning_rate': (0.00001, 0.01), 'counts_loss_weight': (10, 10000)}\n",
    "\n",
    "optimizer = BayesianOptimization(\n",
    "    f=train_model_and_return_model_loss,\n",
    "    pbounds=pbounds,\n",
    "    random_state=1,\n",
    ")\n",
    "\n",
    "\n",
    "optimizer.probe(\n",
    "    params={\"learning_rate\": LEARNING_RATE, \"counts_loss_weight\": COUNTS_LOSS_WEIGHT},\n",
    "    lazy=True,\n",
    ")\n",
    "\n",
    "optimizer.maximize(\n",
    "    init_points=5,\n",
    "    n_iter=30,\n",
    ")\n",
    "\n",
    "params_dict = optimizer.max\n",
    "params_dict['params']['counts_loss_weight'] = int(params_dict['params']['counts_loss_weight'])\n",
    "\n",
    "with open(\"tuning_output.json\", \"w\") as outfile:  \n",
    "    json.dump(params_dict['params'], outfile, indent='\\t')\n",
    "\n"
   ]
  },
  {
   "cell_type": "code",
   "execution_count": null,
   "metadata": {},
   "outputs": [],
   "source": [
    "# for learning_rate in LEARNING_RATE:\n",
    "#     for counts_loss_weight in COUNTS_LOSS_WEIGHT:\n",
    "#         train_model(learning_rate,counts_loss_weight)\n",
    "\n",
    "# models_losses = []\n",
    "# for history_file in glob.glob(\"TUNING_DIR+*history*\"):\n",
    "#     data = json.load(open(history_file, 'r'))\n",
    "#     loss=data['val_loss']['9']\n",
    "#     lr = os.path.basename(history_file).split(\"lr_\")[1].split(\"_cw_\")[0]\n",
    "#     cw = os.path.basename(history_file).split(\"lr_\")[1].split(\"_cw_\")[1].split(\".\")[0]\n",
    "#     models_losses.append({'learning_rate':lr,'counts_loss_weight':cw,'loss':loss})\n",
    "\n",
    "#params_dict = sorted(models_losses, key=lambda k: k['loss'])[0]\n",
    "\n",
    "# params_dict = {'learning_rate': '0.0004', 'counts_loss_weight': '100', 'loss': 155.077495575}\n",
    "# write python dictionary to json file\n",
    "\n",
    "\n",
    "\n",
    "# loss = train_model_and_return_model_loss(LEARNING_RATE,COUNTS_LOSS_WEIGHT)\n",
    "\n",
    "# params={\"learning_rate\": LEARNING_RATE, \"counts_loss_weight\": COUNTS_LOSS_WEIGHT, \"loss\":loss}\n",
    "\n",
    "    \n",
    "# with open(\"tuning_output.json\", \"w\") as outfile:  \n",
    "#     json.dump(params, outfile, indent='\\t')"
   ]
  },
  {
   "cell_type": "code",
   "execution_count": null,
   "metadata": {},
   "outputs": [],
   "source": [
    "# comm = \"paste -s -d ' ' /mnt/lab_data3/zahoor/pipeline_outputs/ENCSR000EBS_tuning/ENCSR000EBS_lr_0.00004_cw_1000/reference/chroms.txt | tr -d '\\n'\"\n",
    "\n",
    "# proc = sp.Popen(comm,stderr=sp.PIPE,stdout=sp.PIPE,shell=True)\n",
    "# proc.communicate()\n",
    "\n"
   ]
  },
  {
   "cell_type": "code",
   "execution_count": null,
   "metadata": {},
   "outputs": [],
   "source": []
  }
 ],
 "metadata": {
  "kernelspec": {
   "display_name": "Python 3",
   "language": "python",
   "name": "python3"
  },
  "language_info": {
   "codemirror_mode": {
    "name": "ipython",
    "version": 3
   },
   "file_extension": ".py",
   "mimetype": "text/x-python",
   "name": "python",
   "nbconvert_exporter": "python",
   "pygments_lexer": "ipython3",
   "version": "3.7.9"
  }
 },
 "nbformat": 4,
 "nbformat_minor": 4
}
