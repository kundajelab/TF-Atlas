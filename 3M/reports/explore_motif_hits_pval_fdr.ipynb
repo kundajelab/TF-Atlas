{
 "cells": [
  {
   "cell_type": "code",
   "execution_count": null,
   "metadata": {},
   "outputs": [],
   "source": [
    "import moods\n",
    "import util\n",
    "import os\n",
    "import numpy as np\n",
    "import pandas as pd\n",
    "import matplotlib.pyplot as plt\n",
    "import matplotlib.font_manager as font_manager\n",
    "import tqdm\n",
    "tqdm.tqdm_notebook()"
   ]
  },
  {
   "cell_type": "code",
   "execution_count": null,
   "metadata": {},
   "outputs": [],
   "source": [
    "# Plotting defaults\n",
    "font_manager.fontManager.ttflist.extend(\n",
    "    font_manager.createFontList(\n",
    "        font_manager.findSystemFonts(fontpaths=\"/users/amtseng/modules/fonts\")\n",
    "    )\n",
    ")\n",
    "plot_params = {\n",
    "    \"figure.titlesize\": 22,\n",
    "    \"axes.titlesize\": 22,\n",
    "    \"axes.labelsize\": 20,\n",
    "    \"legend.fontsize\": 18,\n",
    "    \"font.size\": 13,\n",
    "    \"xtick.labelsize\": 16,\n",
    "    \"ytick.labelsize\": 16,\n",
    "    \"font.family\": \"Roboto\",\n",
    "    \"font.weight\": \"bold\"\n",
    "}\n",
    "plt.rcParams.update(plot_params)"
   ]
  },
  {
   "cell_type": "markdown",
   "metadata": {},
   "source": [
    "### Define constants and paths"
   ]
  },
  {
   "cell_type": "code",
   "execution_count": null,
   "metadata": {},
   "outputs": [],
   "source": [
    "# Define parameters/fetch arguments\n",
    "shap_scores_path = os.environ[\"TFM_SHAP_PATH\"]\n",
    "null_shap_scores_path = os.environ[\"TFM_NULL_SHAP_PATH\"]\n",
    "peak_bed_paths = [os.environ[\"TFM_PEAKS_PATH\"]]\n",
    "moods_dir = os.environ[\"TFM_MOODS_DIR\"]\n",
    "\n",
    "print(\"DeepSHAP scores path: %s\" % shap_scores_path)\n",
    "print(\"Nullified DeepSHAP scores path: %s\" % null_shap_scores_path)\n",
    "print(\"Peaks path: %s\" % peak_bed_paths[0])\n",
    "print(\"MOODS directory: %s\" % moods_dir)"
   ]
  },
  {
   "cell_type": "code",
   "execution_count": null,
   "metadata": {},
   "outputs": [],
   "source": [
    "# Constants\n",
    "input_length = 2114\n",
    "hyp_score_key = \"hyp_scores\""
   ]
  },
  {
   "cell_type": "markdown",
   "metadata": {},
   "source": [
    "### Import hits and scores"
   ]
  },
  {
   "cell_type": "code",
   "execution_count": null,
   "metadata": {},
   "outputs": [],
   "source": [
    "# Import MOODS table\n",
    "hits_path = os.path.join(moods_dir, \"moods_filtered_collapsed_tested.bed\")\n",
    "hit_table = moods.import_moods_hits(hits_path)"
   ]
  },
  {
   "cell_type": "code",
   "execution_count": null,
   "metadata": {},
   "outputs": [],
   "source": [
    "# Import DeepSHAP scores\n",
    "_, imp_scores, _, coords = util.import_shap_scores(\n",
    "    shap_scores_path, hyp_score_key, remove_non_acgt=False\n",
    ")\n",
    "_, null_imp_scores, _, null_coords = util.import_shap_scores(\n",
    "    null_shap_scores_path, hyp_score_key, remove_non_acgt=False\n",
    ")\n",
    "assert np.all(coords == null_coords)"
   ]
  },
  {
   "cell_type": "code",
   "execution_count": null,
   "metadata": {},
   "outputs": [],
   "source": [
    "# Import peaks\n",
    "peak_table = pd.read_csv(\n",
    "    peak_bed_paths[0], sep=\"\\t\", header=None, index_col=False,\n",
    "    usecols=[0, 1, 2, 9], names=[\"peak_chrom\", \"peak_start\", \"peak_end\", \"offset\"]\n",
    ")\n",
    "peak_table[\"peak_start\"] = (peak_table[\"peak_start\"] + peak_table[\"offset\"]) - (input_length // 2)\n",
    "peak_table[\"peak_end\"] = peak_table[\"peak_start\"] + input_length\n",
    "peak_table = peak_table[[\"peak_chrom\", \"peak_start\", \"peak_end\"]]\n",
    "assert np.all(coords == peak_table.values)"
   ]
  },
  {
   "cell_type": "code",
   "execution_count": null,
   "metadata": {},
   "outputs": [],
   "source": [
    "# Merge in the peak starts/ends to the hit table\n",
    "merged_hits = pd.merge(\n",
    "    hit_table, peak_table, left_on=\"peak_index\", right_index=True\n",
    ")\n",
    "\n",
    "# Important! Reset the indices of `merged_hits` after merging, otherwise\n",
    "# iteration over the rows won't be in order\n",
    "merged_hits = merged_hits.reset_index(drop=True)\n",
    "\n",
    "# Compute start and end of each motif relative to the peak\n",
    "merged_hits[\"motif_rel_start\"] = \\\n",
    "    merged_hits[\"start\"] - merged_hits[\"peak_start\"]\n",
    "merged_hits[\"motif_rel_end\"] = \\\n",
    "    merged_hits[\"end\"] - merged_hits[\"peak_start\"]\n",
    "\n",
    "# Careful! Because of the merging step that only kept the top peak hit, some\n",
    "# hits might overrun the edge of the peak; we limit the motif hit\n",
    "# indices here so they stay in the peak; this should not be a common occurrence\n",
    "merged_hits[\"peak_min\"] = 0\n",
    "merged_hits[\"peak_max\"] = merged_hits[\"peak_end\"] - merged_hits[\"peak_start\"]\n",
    "merged_hits[\"motif_rel_start\"] = \\\n",
    "    merged_hits[[\"motif_rel_start\", \"peak_min\"]].max(axis=1)\n",
    "merged_hits[\"motif_rel_end\"] = \\\n",
    "    merged_hits[[\"motif_rel_end\", \"peak_max\"]].min(axis=1)\n",
    "del merged_hits[\"peak_min\"]\n",
    "del merged_hits[\"peak_max\"]\n",
    "\n",
    "# Get score of each motif hit as average importance over the hit\n",
    "scores = np.empty(len(merged_hits))\n",
    "for i, row in merged_hits.iterrows():\n",
    "    scores[i] = np.mean(\n",
    "        imp_scores[row[\"peak_index\"]][\n",
    "            row[\"motif_rel_start\"]:row[\"motif_rel_end\"]\n",
    "        ]\n",
    "    )\n",
    "\n",
    "# Get distribution of null scores over all bases\n",
    "null_scores = np.sort(np.ravel(null_imp_scores))\n",
    "\n",
    "# Compute p-value of each score\n",
    "search_inds = np.searchsorted(null_scores, scores)\n",
    "pvals = 1 - (search_inds / len(null_scores))"
   ]
  },
  {
   "cell_type": "code",
   "execution_count": null,
   "metadata": {},
   "outputs": [],
   "source": [
    "merged_hits.head(10)"
   ]
  },
  {
   "cell_type": "code",
   "execution_count": null,
   "metadata": {},
   "outputs": [],
   "source": [
    "pvals[:10]"
   ]
  },
  {
   "cell_type": "code",
   "execution_count": null,
   "metadata": {},
   "outputs": [],
   "source": [
    "print(np.allclose(pvals, merged_hits[\"imp_pval\"]))\n",
    "print(np.max(np.abs(pvals - merged_hits[\"imp_pval\"])))"
   ]
  },
  {
   "cell_type": "code",
   "execution_count": null,
   "metadata": {},
   "outputs": [],
   "source": [
    "fig, ax = plt.subplots(figsize=(20, 8))\n",
    "bins = np.linspace(\n",
    "    min(np.min(scores), np.min(null_scores)),\n",
    "    max(np.max(scores), np.max(null_scores)),\n",
    "    100\n",
    ")\n",
    "bins = np.linspace(-0.005, 0.01, 200)\n",
    "ax.hist(scores, bins=bins, density=True, alpha=0.3, label=\"Hit scores\")\n",
    "ax.hist(null_scores, bins=bins, density=True, alpha=0.3, label=\"Null scores\")\n",
    "ax.set_title(\"Histogram of motif hit scores and null scores\")\n",
    "plt.legend()\n",
    "plt.show()"
   ]
  },
  {
   "cell_type": "code",
   "execution_count": null,
   "metadata": {},
   "outputs": [],
   "source": [
    "fig, ax = plt.subplots(figsize=(8, 8))\n",
    "bins = np.concatenate([bins, [np.inf]])\n",
    "ax.hist(scores, bins=bins, density=True, histtype=\"step\", cumulative=True, label=\"Hit scores\")\n",
    "ax.hist(null_scores, bins=bins, density=True, histtype=\"step\", cumulative=True, label=\"Null scores\")\n",
    "ax.set_title(\"CDF of motif hit scores and null scores\")\n",
    "plt.legend()\n",
    "plt.show()"
   ]
  },
  {
   "cell_type": "code",
   "execution_count": null,
   "metadata": {},
   "outputs": [],
   "source": [
    "print(\"Percentage of null scores that are exactly 0: %f\" % (np.sum(null_scores == 0) / len(null_scores) * 100))"
   ]
  },
  {
   "cell_type": "code",
   "execution_count": null,
   "metadata": {},
   "outputs": [],
   "source": [
    "fig, ax = plt.subplots(figsize=(8, 8))\n",
    "ax.hist(pvals, bins=100)\n",
    "ax.set_title(\"Histogram of p-values\")\n",
    "plt.show()"
   ]
  },
  {
   "cell_type": "code",
   "execution_count": null,
   "metadata": {},
   "outputs": [],
   "source": [
    "fig, ax = plt.subplots(figsize=(20, 8))\n",
    "ranks = np.arange(1, len(pvals) + 1)\n",
    "ax.plot(ranks, np.sort(pvals), color=\"black\", label=\"p-values\")\n",
    "for fdr in [0.05, 0.1, 0.2, 0.3]:\n",
    "    ax.plot(ranks, ranks / len(ranks) * fdr, label=(\"Crit values (FDR = %.2f)\" % fdr))\n",
    "ax.set_title(\"Step-up p-values and FDR corrective critical values\")\n",
    "plt.legend()\n",
    "plt.show()"
   ]
  }
 ],
 "metadata": {
  "kernelspec": {
   "display_name": "Python 3",
   "language": "python",
   "name": "python3"
  },
  "language_info": {
   "codemirror_mode": {
    "name": "ipython",
    "version": 3
   },
   "file_extension": ".py",
   "mimetype": "text/x-python",
   "name": "python",
   "nbconvert_exporter": "python",
   "pygments_lexer": "ipython3",
   "version": "3.7.7"
  }
 },
 "nbformat": 4,
 "nbformat_minor": 4
}
