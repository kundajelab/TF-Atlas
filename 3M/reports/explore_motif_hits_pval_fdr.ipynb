{
 "cells": [
  {
   "cell_type": "code",
   "execution_count": null,
   "metadata": {},
   "outputs": [],
   "source": [
    "import moods\n",
    "import util\n",
    "import os\n",
    "import numpy as np\n",
    "import pandas as pd\n",
    "import pomegranate\n",
    "import matplotlib.pyplot as plt\n",
    "import matplotlib.font_manager as font_manager\n",
    "import tqdm\n",
    "tqdm.tqdm_notebook()"
   ]
  },
  {
   "cell_type": "code",
   "execution_count": null,
   "metadata": {},
   "outputs": [],
   "source": [
    "# Plotting defaults\n",
    "font_manager.fontManager.ttflist.extend(\n",
    "    font_manager.createFontList(\n",
    "        font_manager.findSystemFonts(fontpaths=\"/users/amtseng/modules/fonts\")\n",
    "    )\n",
    ")\n",
    "plot_params = {\n",
    "    \"figure.titlesize\": 22,\n",
    "    \"axes.titlesize\": 22,\n",
    "    \"axes.labelsize\": 20,\n",
    "    \"legend.fontsize\": 18,\n",
    "    \"font.size\": 13,\n",
    "    \"xtick.labelsize\": 16,\n",
    "    \"ytick.labelsize\": 16,\n",
    "    \"font.family\": \"Roboto\",\n",
    "    \"font.weight\": \"bold\"\n",
    "}\n",
    "plt.rcParams.update(plot_params)"
   ]
  },
  {
   "cell_type": "markdown",
   "metadata": {},
   "source": [
    "### Define constants and paths"
   ]
  },
  {
   "cell_type": "code",
   "execution_count": null,
   "metadata": {},
   "outputs": [],
   "source": [
    "# Define parameters/fetch arguments\n",
    "shap_scores_path = os.environ[\"TFM_SHAP_PATH\"]\n",
    "peak_bed_paths = [os.environ[\"TFM_PEAKS_PATH\"]]\n",
    "moods_dir = os.environ[\"TFM_MOODS_DIR\"]\n",
    "\n",
    "print(\"DeepSHAP scores path: %s\" % shap_scores_path)\n",
    "print(\"Peaks path: %s\" % peak_bed_paths[0])\n",
    "print(\"MOODS directory: %s\" % moods_dir)"
   ]
  },
  {
   "cell_type": "code",
   "execution_count": null,
   "metadata": {},
   "outputs": [],
   "source": [
    "# Constants\n",
    "input_length = 2114\n",
    "hyp_score_key = \"hyp_scores\""
   ]
  },
  {
   "cell_type": "markdown",
   "metadata": {},
   "source": [
    "### Import hits and scores"
   ]
  },
  {
   "cell_type": "code",
   "execution_count": null,
   "metadata": {},
   "outputs": [],
   "source": [
    "# Import MOODS table\n",
    "hits_path = os.path.join(moods_dir, \"moods_filtered_collapsed_tested.bed\")\n",
    "hit_table = moods.import_moods_hits(hits_path)"
   ]
  },
  {
   "cell_type": "code",
   "execution_count": null,
   "metadata": {},
   "outputs": [],
   "source": [
    "# Import DeepSHAP scores\n",
    "_, imp_scores, _, coords = util.import_shap_scores(\n",
    "    shap_scores_path, hyp_score_key, remove_non_acgt=False\n",
    ")"
   ]
  },
  {
   "cell_type": "code",
   "execution_count": null,
   "metadata": {},
   "outputs": [],
   "source": [
    "# Import peaks\n",
    "peak_table = pd.read_csv(\n",
    "    peak_bed_paths[0], sep=\"\\t\", header=None, index_col=False,\n",
    "    usecols=[0, 1, 2, 9], names=[\"peak_chrom\", \"peak_start\", \"peak_end\", \"offset\"]\n",
    ")\n",
    "peak_table[\"peak_start\"] = (peak_table[\"peak_start\"] + peak_table[\"offset\"]) - (input_length // 2)\n",
    "peak_table[\"peak_end\"] = peak_table[\"peak_start\"] + input_length\n",
    "peak_table = peak_table[[\"peak_chrom\", \"peak_start\", \"peak_end\"]]\n",
    "assert np.all(coords == peak_table.values)"
   ]
  },
  {
   "cell_type": "code",
   "execution_count": null,
   "metadata": {},
   "outputs": [],
   "source": [
    "# Merge in the peak starts/ends to the hit table\n",
    "merged_hits = pd.merge(\n",
    "    hit_table, peak_table, left_on=\"peak_index\", right_index=True\n",
    ")\n",
    "\n",
    "# Important! Reset the indices of `merged_hits` after merging, otherwise\n",
    "# iteration over the rows won't be in order\n",
    "merged_hits = merged_hits.reset_index(drop=True)\n",
    "\n",
    "# Compute start and end of each motif relative to the peak\n",
    "merged_hits[\"motif_rel_start\"] = \\\n",
    "    merged_hits[\"start\"] - merged_hits[\"peak_start\"]\n",
    "merged_hits[\"motif_rel_end\"] = \\\n",
    "    merged_hits[\"end\"] - merged_hits[\"peak_start\"]\n",
    "\n",
    "# Careful! Because of the merging step that only kept the top peak hit, some\n",
    "# hits might overrun the edge of the peak; we limit the motif hit\n",
    "# indices here so they stay in the peak; this should not be a common occurrence\n",
    "merged_hits[\"peak_min\"] = 0\n",
    "merged_hits[\"peak_max\"] = merged_hits[\"peak_end\"] - merged_hits[\"peak_start\"]\n",
    "merged_hits[\"motif_rel_start\"] = \\\n",
    "    merged_hits[[\"motif_rel_start\", \"peak_min\"]].max(axis=1)\n",
    "merged_hits[\"motif_rel_end\"] = \\\n",
    "    merged_hits[[\"motif_rel_end\", \"peak_max\"]].min(axis=1)\n",
    "del merged_hits[\"peak_min\"]\n",
    "del merged_hits[\"peak_max\"]\n",
    "\n",
    "# Get score of each motif hit as average importance over the hit\n",
    "scores = np.empty(len(merged_hits))\n",
    "for peak_index, group in tqdm.notebook.tqdm(merged_hits.groupby(\"peak_index\")):\n",
    "    score_track = np.sum(np.abs(imp_scores[peak_index]), axis=1)\n",
    "    total_score = np.sum(score_track)\n",
    "    for i, row in group.iterrows():\n",
    "        scores[i] = np.mean(score_track[row[\"motif_rel_start\"]:row[\"motif_rel_end\"]]) / total_score"
   ]
  },
  {
   "cell_type": "code",
   "execution_count": null,
   "metadata": {},
   "outputs": [],
   "source": [
    "model = pomegranate.GeneralMixtureModel.from_samples(\n",
    "    [pomegranate.GammaDistribution, pomegranate.GammaDistribution],\n",
    "    2, scores[:, None]\n",
    ")\n",
    "model = model.fit(scores)"
   ]
  },
  {
   "cell_type": "code",
   "execution_count": null,
   "metadata": {},
   "outputs": [],
   "source": [
    "major_dist = model.distributions[np.argmax(model.to_dict()[\"weights\"])]"
   ]
  },
  {
   "cell_type": "code",
   "execution_count": null,
   "metadata": {},
   "outputs": [],
   "source": [
    "fig, ax = plt.subplots(figsize=(20, 8))\n",
    "ax.hist(scores, bins=200, density=True, alpha=0.3)\n",
    "x = np.linspace(0, 0.03, 200)\n",
    "y = model.probability(x)\n",
    "ax.plot(x, y)\n",
    "ax.set_title(\"Histogram of motif hit scores\")\n",
    "plt.show()"
   ]
  },
  {
   "cell_type": "code",
   "execution_count": null,
   "metadata": {},
   "outputs": [],
   "source": [
    "fig, ax = plt.subplots(figsize=(20, 8))\n",
    "ax.hist(scores, bins=200, density=True, alpha=0.3)\n",
    "x = np.linspace(0, 0.03, 200)\n",
    "y = major_dist.probability(x)\n",
    "ax.plot(x, y)\n",
    "ax.set_title(\"Histogram of motif hit scores (first component only)\")\n",
    "plt.show()"
   ]
  },
  {
   "cell_type": "code",
   "execution_count": null,
   "metadata": {},
   "outputs": [],
   "source": [
    "score_range = np.linspace(np.min(scores), np.max(scores), 1000000)\n",
    "pdf = major_dist.probability(score_range)\n",
    "pdf = pdf / np.sum(pdf)\n",
    "inverse_cdf = 1 - np.cumsum(pdf)"
   ]
  },
  {
   "cell_type": "code",
   "execution_count": null,
   "metadata": {},
   "outputs": [],
   "source": [
    "assignments = np.digitize(scores, score_range, right=True)"
   ]
  },
  {
   "cell_type": "code",
   "execution_count": null,
   "metadata": {},
   "outputs": [],
   "source": [
    "pvals = inverse_cdf[assignments]"
   ]
  },
  {
   "cell_type": "code",
   "execution_count": null,
   "metadata": {},
   "outputs": [],
   "source": [
    "fig, ax = plt.subplots(figsize=(20, 8))\n",
    "ranks = np.arange(1, len(pvals) + 1)\n",
    "ax.plot(ranks, np.sort(pvals), color=\"black\", label=\"p-values\")\n",
    "for fdr in [0.05, 0.1, 0.2, 0.3]:\n",
    "    ax.plot(ranks, ranks / len(ranks) * fdr, label=(\"Crit values (FDR = %.2f)\" % fdr))\n",
    "ax.set_title(\"Step-up p-values and FDR corrective critical values\")\n",
    "plt.legend()\n",
    "plt.show()"
   ]
  }
 ],
 "metadata": {
  "kernelspec": {
   "display_name": "Python 3",
   "language": "python",
   "name": "python3"
  },
  "language_info": {
   "codemirror_mode": {
    "name": "ipython",
    "version": 3
   },
   "file_extension": ".py",
   "mimetype": "text/x-python",
   "name": "python",
   "nbconvert_exporter": "python",
   "pygments_lexer": "ipython3",
   "version": "3.7.7"
  }
 },
 "nbformat": 4,
 "nbformat_minor": 4
}
