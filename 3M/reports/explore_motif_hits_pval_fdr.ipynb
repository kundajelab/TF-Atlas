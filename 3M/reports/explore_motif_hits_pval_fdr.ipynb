{
 "cells": [
  {
   "cell_type": "code",
   "execution_count": null,
   "metadata": {},
   "outputs": [],
   "source": [
    "import moods\n",
    "import util\n",
    "import os\n",
    "import numpy as np\n",
    "import pandas as pd\n",
    "import pomegranate\n",
    "import scipy.special\n",
    "import matplotlib.pyplot as plt\n",
    "import matplotlib.font_manager as font_manager\n",
    "import vdom.helpers as vdomh\n",
    "import tqdm\n",
    "tqdm.tqdm_notebook()"
   ]
  },
  {
   "cell_type": "code",
   "execution_count": null,
   "metadata": {},
   "outputs": [],
   "source": [
    "# Plotting defaults\n",
    "plot_params = {\n",
    "    \"figure.titlesize\": 22,\n",
    "    \"axes.titlesize\": 22,\n",
    "    \"axes.labelsize\": 20,\n",
    "    \"legend.fontsize\": 18,\n",
    "    \"xtick.labelsize\": 16,\n",
    "    \"ytick.labelsize\": 16,\n",
    "    \"font.weight\": \"bold\"\n",
    "}\n",
    "plt.rcParams.update(plot_params)"
   ]
  },
  {
   "cell_type": "markdown",
   "metadata": {},
   "source": [
    "### Define constants and paths"
   ]
  },
  {
   "cell_type": "code",
   "execution_count": null,
   "metadata": {},
   "outputs": [],
   "source": [
    "# moods_dir = \"/users/amtseng/tfmodisco/results/moods/multitask_profile_finetune/E2F6_multitask_profile_finetune_fold1/E2F6_multitask_profile_finetune_task1_fold1_count_motif_hits\""
   ]
  },
  {
   "cell_type": "code",
   "execution_count": null,
   "metadata": {},
   "outputs": [],
   "source": [
    "# expids = {\n",
    "#     0 : \"ENCSR000BGZ\",\n",
    "#     1 : \"ENCSR000BKM\",\n",
    "#     2 : \"ENCSR000BSE\",\n",
    "#     3 : \"ENCSR000DTO\",\n",
    "#     4 : \"ENCSR000EFS\",\n",
    "#     5 : \"ENCSR000EWG\",\n",
    "#     6 : \"ENCSR000FAH\",\n",
    "#     7 : \"ENCSR240PRQ\",\n",
    "#     8 : \"ENCSR725VFL\"\n",
    "# }\n",
    "# expid = expids[5]\n",
    "# key = \"counts\"\n",
    "# moods_dir = os.path.join(\"/mnt/lab_data2/amtseng/tf_atlas/results/moods\", expid, key)"
   ]
  },
  {
   "cell_type": "code",
   "execution_count": null,
   "metadata": {},
   "outputs": [],
   "source": [
    "moods_dir = os.environ[\"TFM_MOODS_DIR\"]\n",
    "print(\"MOODS directory: %s\" % moods_dir)"
   ]
  },
  {
   "cell_type": "code",
   "execution_count": null,
   "metadata": {},
   "outputs": [],
   "source": [
    "# Constants\n",
    "input_length = 2114"
   ]
  },
  {
   "cell_type": "markdown",
   "metadata": {},
   "source": [
    "### Import hits and scores"
   ]
  },
  {
   "cell_type": "code",
   "execution_count": null,
   "metadata": {},
   "outputs": [],
   "source": [
    "# Import MOODS table\n",
    "hits_path = os.path.join(moods_dir, \"moods_filtered_collapsed_scored.bed\")\n",
    "hit_table = moods.import_moods_hits(hits_path)"
   ]
  },
  {
   "cell_type": "code",
   "execution_count": null,
   "metadata": {},
   "outputs": [],
   "source": [
    "scores = hit_table[\"imp_frac_score\"].values\n",
    "scores_finite = scores[np.isfinite(scores)]"
   ]
  },
  {
   "cell_type": "code",
   "execution_count": null,
   "metadata": {},
   "outputs": [],
   "source": [
    "def estimate_mode(x_values, bins=200, levels=1):\n",
    "    \"\"\"\n",
    "    Estimates the mode of the distribution using `levels`\n",
    "    iterations of histograms.\n",
    "    \"\"\"\n",
    "    hist, edges = np.histogram(x_values, bins=bins)\n",
    "    bin_mode = np.argmax(hist)\n",
    "    left_edge, right_edge = edges[bin_mode], edges[bin_mode + 1]\n",
    "    if levels <= 1:\n",
    "        return (left_edge + right_edge) / 2\n",
    "    else:\n",
    "        return estimate_mode(\n",
    "            x_values[(x_values >= left_edge) & (x_values < right_edge)],\n",
    "            bins=bins,\n",
    "            levels=(levels - 1)\n",
    "        )"
   ]
  },
  {
   "cell_type": "code",
   "execution_count": null,
   "metadata": {},
   "outputs": [],
   "source": [
    "def fit_tight_exponential_dist(x_values, mode=0, percentiles=np.arange(0.05, 1, 0.05)):\n",
    "    \"\"\"\n",
    "    Given an array of x-values and a set of percentiles of the distribution,\n",
    "    computes the set of lambda values for an exponential distribution if the\n",
    "    distribution were fit to each percentile of the x-values. Returns an array\n",
    "    of lambda values parallel to `percentiles`. The exponential distribution\n",
    "    is assumed to have the given mean/mode, and all data less than this mode\n",
    "    is tossed out when doing this computation.\n",
    "    \"\"\"\n",
    "    assert np.min(percentiles) >= 0 and np.max(percentiles) <= 1\n",
    "    x_values = x_values[x_values >= mode]\n",
    "    per_x_vals = np.percentile(x_values, percentiles * 100)\n",
    "    return -np.log(1 - percentiles) / (per_x_vals - mode)"
   ]
  },
  {
   "cell_type": "code",
   "execution_count": null,
   "metadata": {},
   "outputs": [],
   "source": [
    "def exponential_pdf(x_values, lamb):\n",
    "    return lamb * np.exp(-lamb * x_values)\n",
    "def exponential_cdf(x_values, lamb):\n",
    "    return 1 - np.exp(-lamb * x_values)"
   ]
  },
  {
   "cell_type": "code",
   "execution_count": null,
   "metadata": {},
   "outputs": [],
   "source": [
    "mode = estimate_mode(scores_finite)"
   ]
  },
  {
   "cell_type": "code",
   "execution_count": null,
   "metadata": {},
   "outputs": [],
   "source": [
    "# Fit mixture of models to scores (mode-shifted)\n",
    "over_mode_scores = scores_finite[scores_finite >= mode] - mode\n",
    "mixed_model = pomegranate.GeneralMixtureModel.from_samples(\n",
    "    [\n",
    "        pomegranate.ExponentialDistribution,\n",
    "        pomegranate.NormalDistribution,\n",
    "        pomegranate.NormalDistribution\n",
    "    ],\n",
    "    3, over_mode_scores[:, None]\n",
    ")\n",
    "mixed_model = mixed_model.fit(over_mode_scores)\n",
    "mixed_model_exp_dist = mixed_model.distributions[0]"
   ]
  },
  {
   "cell_type": "code",
   "execution_count": null,
   "metadata": {},
   "outputs": [],
   "source": [
    "# Obtain a distribution of scores that belong to the exponential distribution\n",
    "exp_scores = over_mode_scores[mixed_model.predict(over_mode_scores[:, None]) == 0]"
   ]
  },
  {
   "cell_type": "code",
   "execution_count": null,
   "metadata": {},
   "outputs": [],
   "source": [
    "# Fit a tight exponential distribution based on percentiles\n",
    "lamb = np.max(fit_tight_exponential_dist(exp_scores))"
   ]
  },
  {
   "cell_type": "code",
   "execution_count": null,
   "metadata": {},
   "outputs": [],
   "source": [
    "fig, ax = plt.subplots(nrows=3, figsize=(20, 20))\n",
    "\n",
    "x = np.linspace(np.min(scores_finite), np.max(scores_finite), 200)[1:]  # Skip first bucket (it's usually very large\n",
    "mix_dist_pdf = mixed_model.probability(x)\n",
    "mixed_model_exp_dist_pdf = mixed_model_exp_dist.probability(x)\n",
    "\n",
    "perc_dist_pdf = exponential_pdf(x, lamb)\n",
    "perc_dist_cdf = exponential_cdf(x, lamb)\n",
    "\n",
    "# Plot mixed model\n",
    "ax[0].hist(over_mode_scores + mode, bins=500, density=True, alpha=0.3)\n",
    "ax[0].axvline(mode)\n",
    "ax[0].plot(x + mode, mix_dist_pdf, label=\"Mixed model\")\n",
    "ax[0].plot(x + mode, mixed_model_exp_dist_pdf, label=\"Exponential component\")\n",
    "ax[0].legend()\n",
    "\n",
    "# Plot fitted PDF\n",
    "ax[1].hist(exp_scores, bins=500, density=True, alpha=0.3)\n",
    "ax[1].plot(x + mode, perc_dist_pdf, label=\"Percentile-fitted\")\n",
    "\n",
    "# Plot fitted CDF\n",
    "ax[2].hist(exp_scores, bins=500, density=True, alpha=1, cumulative=True, histtype=\"step\")\n",
    "ax[2].plot(x + mode, perc_dist_cdf, label=\"Percentile-fitted\")\n",
    "\n",
    "ax[0].set_title(\"Motif hit scores\")\n",
    "plt.show()"
   ]
  },
  {
   "cell_type": "code",
   "execution_count": null,
   "metadata": {},
   "outputs": [],
   "source": [
    "score_range = np.linspace(np.min(scores_finite), np.max(scores_finite), 1000000)\n",
    "inverse_cdf = 1 - exponential_cdf(score_range, lamb)"
   ]
  },
  {
   "cell_type": "code",
   "execution_count": null,
   "metadata": {},
   "outputs": [],
   "source": [
    "assignments = np.digitize(scores - mode, score_range, right=True)\n",
    "assignments[~np.isfinite(scores)] = 0  # If score was NaN, give it a p-value of ~1"
   ]
  },
  {
   "cell_type": "code",
   "execution_count": null,
   "metadata": {},
   "outputs": [],
   "source": [
    "pvals = inverse_cdf[assignments]\n",
    "pvals_sorted = np.sort(pvals)"
   ]
  },
  {
   "cell_type": "code",
   "execution_count": null,
   "metadata": {},
   "outputs": [],
   "source": [
    "fdr_levels = [0.05, 0.1, 0.2, 0.3]\n",
    "pval_threshes = []\n",
    "\n",
    "fig, ax = plt.subplots(figsize=(20, 8))\n",
    "ranks = np.arange(1, len(pvals_sorted) + 1)\n",
    "ax.plot(ranks, pvals_sorted, color=\"black\", label=\"p-values\")\n",
    "for fdr in fdr_levels:\n",
    "    bh_crit_vals = ranks / len(ranks) * fdr\n",
    "    ax.plot(ranks, bh_crit_vals, label=(\"Crit values (FDR = %.2f)\" % fdr))\n",
    "    pval_threshes.append(pvals_sorted[np.max(np.where(pvals_sorted <= bh_crit_vals)[0])])\n",
    "ax.set_title(\"Step-up p-values and FDR corrective critical values\")\n",
    "plt.legend()\n",
    "plt.show()"
   ]
  },
  {
   "cell_type": "code",
   "execution_count": null,
   "metadata": {},
   "outputs": [],
   "source": [
    "# Number of hits at each FDR level\n",
    "header = vdomh.thead(\n",
    "    vdomh.tr(\n",
    "        vdomh.th(\"FDR level\", style={\"text-align\": \"center\"}),\n",
    "        vdomh.th(\"Number of hits kept\", style={\"text-align\": \"center\"}),\n",
    "        vdomh.th(\"% hits kept\", style={\"text-align\": \"center\"})\n",
    "    )\n",
    ")\n",
    "rows = []\n",
    "for i, fdr in enumerate(fdr_levels):\n",
    "    num_kept = np.sum(pvals <= pval_threshes[i])\n",
    "    frac_kept = num_kept / len(pvals)\n",
    "    rows.append(vdomh.tr(\n",
    "        vdomh.td(\"%.2f\" % fdr), vdomh.td(\"%d\" % num_kept), vdomh.td(\"%.2f%%\" % (frac_kept * 100))\n",
    "    ))\n",
    "body = vdomh.tbody(*rows)\n",
    "vdomh.table(header, body)"
   ]
  }
 ],
 "metadata": {
  "kernelspec": {
   "display_name": "Python 3",
   "language": "python",
   "name": "python3"
  },
  "language_info": {
   "codemirror_mode": {
    "name": "ipython",
    "version": 3
   },
   "file_extension": ".py",
   "mimetype": "text/x-python",
   "name": "python",
   "nbconvert_exporter": "python",
   "pygments_lexer": "ipython3",
   "version": "3.7.7"
  }
 },
 "nbformat": 4,
 "nbformat_minor": 4
}
