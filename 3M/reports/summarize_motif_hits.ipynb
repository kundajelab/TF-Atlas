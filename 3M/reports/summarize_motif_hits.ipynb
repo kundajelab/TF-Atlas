{
 "cells": [
  {
   "cell_type": "markdown",
   "metadata": {},
   "source": [
    "### Link to results\n",
    "[Proportion of peaks with hits](#peaks-with-hits)\n",
    "\n",
    "[Co-occurrence of motifs in peaks](#co-occurrence)\n",
    "\n",
    "[Distance between co-occurring motifs](#distance)"
   ]
  },
  {
   "cell_type": "code",
   "execution_count": null,
   "metadata": {},
   "outputs": [],
   "source": [
    "%load_ext autoreload\n",
    "%autoreload 2\n",
    "import os\n",
    "import util\n",
    "import moods\n",
    "import h5py\n",
    "import viz_sequence\n",
    "import numpy as np\n",
    "import pandas as pd\n",
    "import sklearn.cluster\n",
    "import scipy.cluster.hierarchy\n",
    "import matplotlib.pyplot as plt\n",
    "import matplotlib.font_manager as font_manager\n",
    "import subprocess\n",
    "import vdom.helpers as vdomh\n",
    "from IPython.display import display\n",
    "import tqdm\n",
    "tqdm.tqdm_notebook()"
   ]
  },
  {
   "cell_type": "code",
   "execution_count": null,
   "metadata": {},
   "outputs": [],
   "source": [
    "# Plotting defaults\n",
    "font_manager.fontManager.ttflist.extend(\n",
    "    font_manager.createFontList(\n",
    "        font_manager.findSystemFonts(fontpaths=\"/users/amtseng/modules/fonts\")\n",
    "    )\n",
    ")\n",
    "plot_params = {\n",
    "    \"figure.titlesize\": 22,\n",
    "    \"axes.titlesize\": 22,\n",
    "    \"axes.labelsize\": 20,\n",
    "    \"legend.fontsize\": 18,\n",
    "    \"font.size\": 13,\n",
    "    \"xtick.labelsize\": 16,\n",
    "    \"ytick.labelsize\": 16,\n",
    "    \"font.family\": \"Roboto\",\n",
    "    \"font.weight\": \"bold\"\n",
    "}\n",
    "plt.rcParams.update(plot_params)"
   ]
  },
  {
   "cell_type": "markdown",
   "metadata": {},
   "source": [
    "### Define constants and paths"
   ]
  },
  {
   "cell_type": "code",
   "execution_count": null,
   "metadata": {},
   "outputs": [],
   "source": [
    "# Define parameters/fetch arguments\n",
    "tfm_results_path = os.environ[\"TFM_TFM_PATH\"]\n",
    "peak_bed_paths = [os.environ[\"TFM_PEAKS_PATH\"]]\n",
    "\n",
    "if \"TFM_MOODS_DIR\" in os.environ:\n",
    "    moods_dir = os.environ[\"TFM_MOODS_DIR\"]\n",
    "else:\n",
    "    moods_dir = None\n",
    "\n",
    "print(\"TF-MoDISco results path: %s\" % tfm_results_path)\n",
    "print(\"Peaks path: %s\" % peak_bed_paths[0])"
   ]
  },
  {
   "cell_type": "code",
   "execution_count": null,
   "metadata": {},
   "outputs": [],
   "source": [
    "# Constants\n",
    "reference_fasta = \"/users/amtseng/genomes/hg38.fasta\""
   ]
  },
  {
   "cell_type": "markdown",
   "metadata": {},
   "source": [
    "### Helper functions\n",
    "For plotting and organizing things"
   ]
  },
  {
   "cell_type": "code",
   "execution_count": null,
   "metadata": {},
   "outputs": [],
   "source": [
    "def import_tfmodisco_motifs(tfm_results_path, trim=True, only_pos=True):\n",
    "    \"\"\"\n",
    "    Imports the PFMs to into a dictionary, mapping `(x, y)` to the PFM,\n",
    "    where `x` is the metacluster index and `y` is the pattern index.\n",
    "    Arguments:\n",
    "        `tfm_results_path`: path to HDF5 containing TF-MoDISco results\n",
    "        `out_dir`: where to save motifs\n",
    "        `trim`: if True, trim the motif flanks based on total importance\n",
    "        `only_pos`: if True, only return motifs with positive contributions\n",
    "    Returns the dictionary of PFMs.\n",
    "    \"\"\" \n",
    "    pfms = {}\n",
    "    with h5py.File(tfm_results_path, \"r\") as f:\n",
    "        metaclusters = f[\"metacluster_idx_to_submetacluster_results\"]\n",
    "        num_metaclusters = len(metaclusters.keys())\n",
    "        for metacluster_i, metacluster_key in enumerate(metaclusters.keys()):\n",
    "            metacluster = metaclusters[metacluster_key]\n",
    "            patterns = metacluster[\"seqlets_to_patterns_result\"][\"patterns\"]\n",
    "            num_patterns = len(patterns[\"all_pattern_names\"][:])\n",
    "            for pattern_i, pattern_name in enumerate(patterns[\"all_pattern_names\"][:]):\n",
    "                pattern_name = pattern_name.decode()\n",
    "                pattern = patterns[pattern_name]\n",
    "                pfm = pattern[\"sequence\"][\"fwd\"][:]\n",
    "                cwm = pattern[\"task0_contrib_scores\"][\"fwd\"][:]\n",
    "                \n",
    "                # Check that the contribution scores are overall positive\n",
    "                if only_pos and np.sum(cwm) < 0:\n",
    "                    continue\n",
    "                    \n",
    "                if trim:\n",
    "                    score = np.sum(np.abs(cwm), axis=1)\n",
    "                    trim_thresh = np.max(score) * 0.2  # Cut off anything less than 20% of max score\n",
    "                    pass_inds = np.where(score >= trim_thresh)[0]\n",
    "                    pfm = pfm[np.min(pass_inds): np.max(pass_inds) + 1]\n",
    "                    \n",
    "                pfms[\"%d_%d\" % (metacluster_i,pattern_i)] = pfm\n",
    "    return pfms"
   ]
  },
  {
   "cell_type": "code",
   "execution_count": null,
   "metadata": {},
   "outputs": [],
   "source": [
    "def get_peak_hits(peak_table, hit_table):\n",
    "    \"\"\"\n",
    "    For each peak, extracts the set of motif hits that fall in that peak.\n",
    "    Returns a list mapping peak index to a subtable of `hit_table`. The index\n",
    "    of the list is the index of the peak table.\n",
    "    \"\"\"\n",
    "    peak_hits = []\n",
    "    for index, row in tqdm.notebook.tqdm(peak_table.iterrows(), total=len(peak_table)):\n",
    "        chrom, start, end = row[\"chrom\"], row[\"peak_start\"], row[\"peak_end\"]\n",
    "        matches = hit_table[hit_table[\"chrom\"] == chrom]\n",
    "        matches = matches[(matches[\"start\"] >= start) & (matches[\"start\"] < end)]\n",
    "        peak_hits.append(matches)\n",
    "    return peak_hits"
   ]
  },
  {
   "cell_type": "code",
   "execution_count": null,
   "metadata": {},
   "outputs": [],
   "source": [
    "def get_peak_motif_indicators(peak_hits, motif_keys):\n",
    "    \"\"\"\n",
    "    From the peak hits (as returned by `get_peak_hits`), computes an indicator\n",
    "    array of size N x M, where N is the number of peaks and M is the number of\n",
    "    motifs. This indicator array is a binary array, with a 1 whenever the motif\n",
    "    appears in the peak. `motif_keys` is a list of motif keys as they appear in\n",
    "    `peak_hits`; the order of the motifs M matches this list.\n",
    "    \"\"\"\n",
    "    motif_inds = {motif_keys[i] : i for i in range(len(motif_keys))}\n",
    "    indicators = np.zeros((len(peak_hits), len(motif_keys)), dtype=int)\n",
    "    for i in tqdm.notebook.trange(len(peak_hits)):\n",
    "        hits = peak_hits[i]\n",
    "        keys = np.unique(hits[\"key\"])\n",
    "        for key in keys:\n",
    "            indicators[i][motif_inds[key]] = 1\n",
    "    return indicators"
   ]
  },
  {
   "cell_type": "code",
   "execution_count": null,
   "metadata": {},
   "outputs": [],
   "source": [
    "def plot_peak_motif_indicator_heatmap(peak_hit_indicators, motif_keys):\n",
    "    \"\"\"\n",
    "    Plots a simple indicator heatmap of the motifs in each peak.\n",
    "    \"\"\"\n",
    "    # Perform k-means clustering on the indicators (over peaks)\n",
    "    kmeans_clusters = max(5, len(peak_hit_indicators) // 50)  # Set number of clusters based on number of peaks, with minimum\n",
    "    kmeans = sklearn.cluster.KMeans(n_clusters=kmeans_clusters)\n",
    "    cluster_assignments = kmeans.fit_predict(peak_hit_indicators)\n",
    "\n",
    "    # Perform hierarchical clustering on the cluster centers to determine optimal ordering\n",
    "    kmeans_centers = kmeans.cluster_centers_\n",
    "    cluster_order = scipy.cluster.hierarchy.leaves_list(\n",
    "        scipy.cluster.hierarchy.optimal_leaf_ordering(\n",
    "            scipy.cluster.hierarchy.linkage(kmeans_centers, method=\"centroid\"), kmeans_centers\n",
    "        )\n",
    "    )\n",
    "\n",
    "    # Order the peaks so that the cluster assignments follow the optimal ordering\n",
    "    cluster_inds = []\n",
    "    for cluster_id in cluster_order:\n",
    "        cluster_inds.append(np.where(cluster_assignments == cluster_id)[0])\n",
    "    cluster_inds = np.concatenate(cluster_inds)\n",
    "    matrix = peak_hit_indicators[cluster_inds]\n",
    "\n",
    "    # Create a figure with the right dimensions\n",
    "    fig_height = min(len(peak_hit_indicators) * 0.004, 8)\n",
    "    fig, ax = plt.subplots(figsize=(16, fig_height))\n",
    "\n",
    "    # Plot the heatmap\n",
    "    ax.imshow(matrix, interpolation=\"nearest\", aspect=\"auto\", cmap=\"Greens\")\n",
    "\n",
    "    # Set axes on heatmap\n",
    "    ax.set_yticks([])\n",
    "    ax.set_yticklabels([])\n",
    "    ax.set_xticks(np.arange(len(motif_keys)))\n",
    "    ax.set_xticklabels(motif_keys)\n",
    "    ax.set_xlabel(\"Motif\")\n",
    "\n",
    "    fig.tight_layout()\n",
    "    plt.show()"
   ]
  },
  {
   "cell_type": "code",
   "execution_count": null,
   "metadata": {},
   "outputs": [],
   "source": [
    "def plot_motif_cooccurrence_heatmap(peak_hit_indicators, motif_keys):\n",
    "    \"\"\"\n",
    "    Plots a heatmap showing the number of peaks that have both types of\n",
    "    each motif.\n",
    "    \"\"\"\n",
    "    num_motifs = peak_hit_indicators.shape[1]\n",
    "    count_matrix = np.zeros((num_motifs, num_motifs), dtype=int)\n",
    "    for i in range(num_motifs):\n",
    "        for j in range(i):\n",
    "            pair_col = np.sum(peak_hit_indicators[:, [i, j]], axis=1)\n",
    "            count = np.sum(pair_col == 2)\n",
    "            count_matrix[i, j] = count\n",
    "            count_matrix[j, i] = count\n",
    "    \n",
    "    fig_width = max(5, num_motifs)\n",
    "    fig, ax = plt.subplots(figsize=(fig_width, fig_width))\n",
    "    hmap = ax.imshow(count_matrix)\n",
    "\n",
    "    ax.set_xticks(np.arange(num_motifs))\n",
    "    ax.set_yticks(np.arange(num_motifs))\n",
    "    ax.set_xticklabels(motif_keys, rotation=45)\n",
    "    ax.set_yticklabels(motif_keys)\n",
    "\n",
    "    # Loop over data dimensions and create text annotations.\n",
    "    for i in range(num_motifs):\n",
    "        for j in range(num_motifs):\n",
    "            ax.text(j, i, count_matrix[i, j], ha=\"center\", va=\"center\")\n",
    "    fig.colorbar(hmap, orientation=\"horizontal\")\n",
    "\n",
    "    ax.set_title(\"Number of peaks with both motifs\")\n",
    "    fig.tight_layout()\n",
    "    plt.show()"
   ]
  },
  {
   "cell_type": "markdown",
   "metadata": {},
   "source": [
    "## Import TF-MoDISco results"
   ]
  },
  {
   "cell_type": "code",
   "execution_count": null,
   "metadata": {},
   "outputs": [],
   "source": [
    "# Import the PFMs\n",
    "pfms = import_tfmodisco_motifs(tfm_results_path)\n",
    "motif_keys = list(pfms.keys())"
   ]
  },
  {
   "cell_type": "code",
   "execution_count": null,
   "metadata": {},
   "outputs": [],
   "source": [
    "# Run MOODS\n",
    "hit_table = moods.get_moods_hits(pfms, reference_fasta, peak_bed_paths[0], temp_dir=moods_dir)"
   ]
  },
  {
   "cell_type": "code",
   "execution_count": null,
   "metadata": {},
   "outputs": [],
   "source": [
    "# Import peaks\n",
    "peak_table = util.import_peak_table(peak_bed_paths)"
   ]
  },
  {
   "cell_type": "code",
   "execution_count": null,
   "metadata": {},
   "outputs": [],
   "source": [
    "# Match peaks to motif hits\n",
    "peak_hits = get_peak_hits(peak_table, hit_table)"
   ]
  },
  {
   "cell_type": "code",
   "execution_count": null,
   "metadata": {},
   "outputs": [],
   "source": [
    "# Construct indicator array of peaks an dhits\n",
    "peak_hit_indicators = get_peak_motif_indicators(peak_hits, motif_keys)"
   ]
  },
  {
   "cell_type": "markdown",
   "metadata": {},
   "source": [
    "<a id=\"peaks-with-hits\"></a>\n",
    "### Proportion of peaks with hits"
   ]
  },
  {
   "cell_type": "code",
   "execution_count": null,
   "metadata": {},
   "outputs": [],
   "source": [
    "motifs_per_peak = [len(hits) for hits in peak_hits]\n",
    "max_hits = 5\n",
    "\n",
    "fig, ax = plt.subplots(figsize=(10, 10))\n",
    "bins = np.concatenate([np.arange(max_hits + 1), [np.inf]])\n",
    "ax.hist(motifs_per_peak, bins=bins, density=True, histtype=\"step\", cumulative=True)\n",
    "ax.set_title(\"Cumulative distribution of number of motif hits per peak\")\n",
    "ax.set_xlabel(\"Number of motifs k in peak\")\n",
    "ax.set_ylabel(\"Proportion of peaks with at least k motifs\")\n",
    "plt.show()"
   ]
  },
  {
   "cell_type": "markdown",
   "metadata": {},
   "source": [
    "<a id=\"co-occurrence\"></a>\n",
    "### Co-occurrence of motifs\n",
    "Proportion of time that motifs co-occur with each other in peaks"
   ]
  },
  {
   "cell_type": "code",
   "execution_count": null,
   "metadata": {},
   "outputs": [],
   "source": [
    "plot_peak_motif_indicator_heatmap(peak_hit_indicators, motif_keys)"
   ]
  },
  {
   "cell_type": "code",
   "execution_count": null,
   "metadata": {},
   "outputs": [],
   "source": [
    "plot_motif_cooccurrence_heatmap(peak_hit_indicators, motif_keys)"
   ]
  },
  {
   "cell_type": "markdown",
   "metadata": {},
   "source": [
    "<a id=\"distance\"></a>\n",
    "### Distribution of distances between motifs\n",
    "When motifs co-occur, show the distance between the instances"
   ]
  },
  {
   "cell_type": "code",
   "execution_count": null,
   "metadata": {},
   "outputs": [],
   "source": [
    "def plot_distance_distribution(peak_hits, motif_keys):\n",
    "    \"\"\"\n",
    "    For each pair of motifs, plots a histogram of distances beween\n",
    "    motifs. \n",
    "    \"\"\"\n",
    "    for i in range(len(motif_keys)):\n",
    "        for j in range(i, len(motif_keys)):\n",
    "            dists = []\n",
    "            for k in tqdm.notebook.trange(len(peak_hits)):\n",
    "                hits = peak_hits[k]\n",
    "                \n",
    "                hits_1 = hits[hits[\"key\"] == motif_keys[i]]\n",
    "                hits_2 = hits[hits[\"key\"] == motif_keys[j]]\n",
    "                \n",
    "                if hits_1.empty or hits_2.empty:\n",
    "                    continue\n",
    "                \n",
    "                pos_1 = np.array(hits_1[\"start\"])\n",
    "                pos_2 = np.array(hits_2[\"start\"])\n",
    "                \n",
    "                len_1 = (hits_1[\"end\"] - hits_1[\"start\"]).values[0]\n",
    "                len_2 = (hits_2[\"end\"] - hits_2[\"start\"]).values[0]\n",
    "                \n",
    "                # Differences beteween all pairs of positions\n",
    "                diffs = pos_2[None] - pos_1[:, None]\n",
    "                # Take minimum distance for each instance of motif 2, but only\n",
    "                # if the distance is an appropriate length\n",
    "                for row in diffs:\n",
    "                    row = row[row != 0]\n",
    "                    if not row.size:\n",
    "                        continue\n",
    "                    dist = row[np.argmin(np.abs(row))]\n",
    "                    if (dist < 0 and dist < -len_2) or (dist > 0 and dist > len_1):\n",
    "                        dists.append(dist)\n",
    "            \n",
    "            dists = np.array(dists)\n",
    "            if not dists.size:\n",
    "                continue\n",
    "            fig, ax = plt.subplots(figsize=(10, 6))\n",
    "            num_bins = min(10, len(dists) // 100)\n",
    "\n",
    "            bins = np.linspace(np.min(dists), np.max(dists), num=num_bins)\n",
    "            ax.hist(dists, bins=bins, density=True)\n",
    "\n",
    "            ax.set_xlabel(\"Signed distance from %s to %s\" % (motif_keys[i], motif_keys[j]))\n",
    "            plt.show()"
   ]
  },
  {
   "cell_type": "code",
   "execution_count": null,
   "metadata": {},
   "outputs": [],
   "source": [
    "plot_distance_distribution(peak_hits, motif_keys)"
   ]
  }
 ],
 "metadata": {
  "kernelspec": {
   "display_name": "Python 3",
   "language": "python",
   "name": "python3"
  },
  "language_info": {
   "codemirror_mode": {
    "name": "ipython",
    "version": 3
   },
   "file_extension": ".py",
   "mimetype": "text/x-python",
   "name": "python",
   "nbconvert_exporter": "python",
   "pygments_lexer": "ipython3",
   "version": "3.7.7"
  }
 },
 "nbformat": 4,
 "nbformat_minor": 4
}
