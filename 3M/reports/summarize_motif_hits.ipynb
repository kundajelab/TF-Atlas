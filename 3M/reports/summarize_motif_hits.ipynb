{
 "cells": [
  {
   "cell_type": "markdown",
   "metadata": {},
   "source": [
    "### Link to results\n",
    "[Proportion of peaks with hits](#peaks-with-hits)\n",
    "\n",
    "[Examples of motif hits](#example-hits)\n",
    "\n",
    "[Co-occurrence of motifs in peaks](#co-occurrence)\n",
    "\n",
    "[Homotypic density of motifs in peaks](#density)\n",
    "\n",
    "[Distance between co-occurring motifs](#distance)"
   ]
  },
  {
   "cell_type": "code",
   "execution_count": null,
   "metadata": {},
   "outputs": [],
   "source": [
    "%load_ext autoreload\n",
    "%autoreload 2\n",
    "import os\n",
    "import util\n",
    "import moods\n",
    "import h5py\n",
    "import viz_sequence\n",
    "import numpy as np\n",
    "import pandas as pd\n",
    "import sklearn.cluster\n",
    "import scipy.cluster.hierarchy\n",
    "import scipy.stats\n",
    "import matplotlib.pyplot as plt\n",
    "import matplotlib.font_manager as font_manager\n",
    "import subprocess\n",
    "import vdom.helpers as vdomh\n",
    "from IPython.display import display\n",
    "import tqdm\n",
    "tqdm.tqdm_notebook()"
   ]
  },
  {
   "cell_type": "code",
   "execution_count": null,
   "metadata": {},
   "outputs": [],
   "source": [
    "# Plotting defaults\n",
    "font_manager.fontManager.ttflist.extend(\n",
    "    font_manager.createFontList(\n",
    "        font_manager.findSystemFonts(fontpaths=\"/users/amtseng/modules/fonts\")\n",
    "    )\n",
    ")\n",
    "plot_params = {\n",
    "    \"figure.titlesize\": 22,\n",
    "    \"axes.titlesize\": 22,\n",
    "    \"axes.labelsize\": 20,\n",
    "    \"legend.fontsize\": 18,\n",
    "    \"font.size\": 13,\n",
    "    \"xtick.labelsize\": 16,\n",
    "    \"ytick.labelsize\": 16,\n",
    "    \"font.family\": \"Roboto\",\n",
    "    \"font.weight\": \"bold\"\n",
    "}\n",
    "plt.rcParams.update(plot_params)"
   ]
  },
  {
   "cell_type": "markdown",
   "metadata": {},
   "source": [
    "### Define constants and paths"
   ]
  },
  {
   "cell_type": "code",
   "execution_count": null,
   "metadata": {},
   "outputs": [],
   "source": [
    "# Define parameters/fetch arguments\n",
    "tfm_results_path = os.environ[\"TFM_TFM_PATH\"]\n",
    "shap_scores_path = os.environ[\"TFM_SHAP_PATH\"]\n",
    "peak_bed_paths = [os.environ[\"TFM_PEAKS_PATH\"]]\n",
    "\n",
    "if \"TFM_MOODS_DIR\" in os.environ:\n",
    "    moods_dir = os.environ[\"TFM_MOODS_DIR\"]\n",
    "else:\n",
    "    moods_dir = None\n",
    "\n",
    "print(\"TF-MoDISco results path: %s\" % tfm_results_path)\n",
    "print(\"DeepSHAP scores path: %s\" % shap_scores_path)\n",
    "print(\"Peaks path: %s\" % peak_bed_paths[0])"
   ]
  },
  {
   "cell_type": "code",
   "execution_count": null,
   "metadata": {},
   "outputs": [],
   "source": [
    "# Constants\n",
    "input_length = 2114\n",
    "reference_fasta = \"/users/amtseng/genomes/hg38.fasta\"\n",
    "hyp_score_key = \"hyp_scores\""
   ]
  },
  {
   "cell_type": "markdown",
   "metadata": {},
   "source": [
    "### Helper functions\n",
    "For plotting and organizing things"
   ]
  },
  {
   "cell_type": "code",
   "execution_count": null,
   "metadata": {},
   "outputs": [],
   "source": [
    "def import_tfmodisco_motifs(tfm_results_path, trim=True, only_pos=True):\n",
    "    \"\"\"\n",
    "    Imports the PFMs to into a dictionary, mapping `(x, y)` to the PFM,\n",
    "    where `x` is the metacluster index and `y` is the pattern index.\n",
    "    Arguments:\n",
    "        `tfm_results_path`: path to HDF5 containing TF-MoDISco results\n",
    "        `out_dir`: where to save motifs\n",
    "        `trim`: if True, trim the motif flanks based on total importance\n",
    "        `only_pos`: if True, only return motifs with positive contributions\n",
    "    Returns the dictionary of PFMs.\n",
    "    \"\"\" \n",
    "    pfms = {}\n",
    "    with h5py.File(tfm_results_path, \"r\") as f:\n",
    "        metaclusters = f[\"metacluster_idx_to_submetacluster_results\"]\n",
    "        num_metaclusters = len(metaclusters.keys())\n",
    "        for metacluster_i, metacluster_key in enumerate(metaclusters.keys()):\n",
    "            metacluster = metaclusters[metacluster_key]\n",
    "            patterns = metacluster[\"seqlets_to_patterns_result\"][\"patterns\"]\n",
    "            num_patterns = len(patterns[\"all_pattern_names\"][:])\n",
    "            for pattern_i, pattern_name in enumerate(patterns[\"all_pattern_names\"][:]):\n",
    "                pattern_name = pattern_name.decode()\n",
    "                pattern = patterns[pattern_name]\n",
    "                pfm = pattern[\"sequence\"][\"fwd\"][:]\n",
    "                cwm = pattern[\"task0_contrib_scores\"][\"fwd\"][:]\n",
    "                \n",
    "                # Check that the contribution scores are overall positive\n",
    "                if only_pos and np.sum(cwm) < 0:\n",
    "                    continue\n",
    "                    \n",
    "                if trim:\n",
    "                    score = np.sum(np.abs(cwm), axis=1)\n",
    "                    trim_thresh = np.max(score) * 0.2  # Cut off anything less than 20% of max score\n",
    "                    pass_inds = np.where(score >= trim_thresh)[0]\n",
    "                    pfm = pfm[np.min(pass_inds): np.max(pass_inds) + 1]\n",
    "                    \n",
    "                pfms[\"%d_%d\" % (metacluster_i,pattern_i)] = pfm\n",
    "    return pfms"
   ]
  },
  {
   "cell_type": "code",
   "execution_count": null,
   "metadata": {},
   "outputs": [],
   "source": [
    "def get_peak_hits(peak_table, hit_table):\n",
    "    \"\"\"\n",
    "    For each peak, extracts the set of motif hits that fall in that peak.\n",
    "    Returns a list mapping peak index to a subtable of `hit_table`. The index\n",
    "    of the list is the index of the peak table.\n",
    "    \"\"\"\n",
    "    peak_hits = []\n",
    "    for index, row in tqdm.notebook.tqdm(peak_table.iterrows(), total=len(peak_table)):\n",
    "        chrom, start, end = row[\"chrom\"], row[\"peak_start\"], row[\"peak_end\"]\n",
    "        matches = hit_table[hit_table[\"chrom\"] == chrom]\n",
    "        matches = matches[(matches[\"start\"] >= start) & (matches[\"start\"] < end)]\n",
    "        peak_hits.append(matches)\n",
    "    return peak_hits"
   ]
  },
  {
   "cell_type": "code",
   "execution_count": null,
   "metadata": {},
   "outputs": [],
   "source": [
    "def get_peak_motif_counts(peak_hits, motif_keys):\n",
    "    \"\"\"\n",
    "    From the peak hits (as returned by `get_peak_hits`), computes a count\n",
    "    array of size N x M, where N is the number of peaks and M is the number of\n",
    "    motifs. Each entry represents the number of times a motif appears in a peak.\n",
    "    `motif_keys` is a list of motif keys as they appear in `peak_hits`; the\n",
    "    order of the motifs M matches this list.\n",
    "    \"\"\"\n",
    "    motif_inds = {motif_keys[i] : i for i in range(len(motif_keys))}\n",
    "    counts = np.zeros((len(peak_hits), len(motif_keys)), dtype=int)\n",
    "    for i in tqdm.notebook.trange(len(peak_hits)):\n",
    "        hits = peak_hits[i]\n",
    "        for key, num in zip(*np.unique(hits[\"key\"], return_counts=True)):\n",
    "            counts[i][motif_inds[key]] = num\n",
    "    return counts"
   ]
  },
  {
   "cell_type": "code",
   "execution_count": null,
   "metadata": {},
   "outputs": [],
   "source": [
    "def cluster_matrix_indices(matrix, num_clusters):\n",
    "    \"\"\"\n",
    "    Clusters matrix using k-means. Always clusters on the first\n",
    "    axis. Returns the indices needed to optimally order the matrix\n",
    "    by clusters.\n",
    "    \"\"\"\n",
    "    num_clusters = min(num_clusters, len(matrix))\n",
    "    \n",
    "    # Perform k-means clustering\n",
    "    kmeans = sklearn.cluster.KMeans(n_clusters=num_clusters)\n",
    "    cluster_assignments = kmeans.fit_predict(matrix)\n",
    "\n",
    "    # Perform hierarchical clustering on the cluster centers to determine optimal ordering\n",
    "    kmeans_centers = kmeans.cluster_centers_\n",
    "    cluster_order = scipy.cluster.hierarchy.leaves_list(\n",
    "        scipy.cluster.hierarchy.optimal_leaf_ordering(\n",
    "            scipy.cluster.hierarchy.linkage(kmeans_centers, method=\"centroid\"), kmeans_centers\n",
    "        )\n",
    "    )\n",
    "\n",
    "    # Order the peaks so that the cluster assignments follow the optimal ordering\n",
    "    cluster_inds = []\n",
    "    for cluster_id in cluster_order:\n",
    "        cluster_inds.append(np.where(cluster_assignments == cluster_id)[0])\n",
    "    cluster_inds = np.concatenate(cluster_inds)\n",
    "    return cluster_inds"
   ]
  },
  {
   "cell_type": "code",
   "execution_count": null,
   "metadata": {},
   "outputs": [],
   "source": [
    "def plot_peak_motif_indicator_heatmap(peak_hit_counts, motif_keys):\n",
    "    \"\"\"\n",
    "    Plots a simple indicator heatmap of the motifs in each peak.\n",
    "    \"\"\"\n",
    "    peak_hit_indicators = (peak_hit_counts > 0).astype(int)\n",
    "    # Cluster matrix by peaks\n",
    "    inds = cluster_matrix_indices(peak_hit_indicators, max(5, len(peak_hit_indicators) // 10))\n",
    "    matrix = peak_hit_indicators[inds]\n",
    "    \n",
    "    # Cluster matrix by motifs\n",
    "    matrix_t = np.transpose(matrix)\n",
    "    inds = cluster_matrix_indices(matrix_t, max(5, len(matrix_t) // 4))\n",
    "    matrix = np.transpose(matrix_t[inds])\n",
    "    motif_keys = np.array(motif_keys)[inds]\n",
    "\n",
    "    # Create a figure with the right dimensions\n",
    "    fig_height = min(len(peak_hit_indicators) * 0.004, 8)\n",
    "    fig, ax = plt.subplots(figsize=(16, fig_height))\n",
    "\n",
    "    # Plot the heatmap\n",
    "    ax.imshow(matrix, interpolation=\"nearest\", aspect=\"auto\", cmap=\"Greens\")\n",
    "\n",
    "    # Set axes on heatmap\n",
    "    ax.set_yticks([])\n",
    "    ax.set_yticklabels([])\n",
    "    ax.set_xticks(np.arange(len(motif_keys)))\n",
    "    ax.set_xticklabels(motif_keys)\n",
    "    ax.set_xlabel(\"Motif\")\n",
    "\n",
    "    fig.tight_layout()\n",
    "    plt.show()"
   ]
  },
  {
   "cell_type": "code",
   "execution_count": null,
   "metadata": {},
   "outputs": [],
   "source": [
    "def get_motif_cooccurrence_count_matrix(peak_hit_counts):\n",
    "    \"\"\"\n",
    "    From an N x M (peaks by motifs) array of hit counts, returns\n",
    "    an M x M array of counts (i.e. how many times two motifs occur\n",
    "    together in the same peak). For the diagonal entries, we require\n",
    "    that motif occur at least twice in a peak to be counted.\n",
    "    \"\"\"\n",
    "    peak_hit_indicators = (peak_hit_counts > 0).astype(int)\n",
    "    num_motifs = peak_hit_indicators.shape[1]\n",
    "    count_matrix = np.zeros((num_motifs, num_motifs), dtype=int)\n",
    "    for i in range(num_motifs):\n",
    "        for j in range(i):\n",
    "            pair_col = np.sum(peak_hit_indicators[:, [i, j]], axis=1)\n",
    "            count = np.sum(pair_col == 2)\n",
    "            count_matrix[i, j] = count\n",
    "            count_matrix[j, i] = count\n",
    "        count_matrix[i, i] = np.sum(peak_hit_counts[:, i] >= 2)\n",
    "    return count_matrix"
   ]
  },
  {
   "cell_type": "code",
   "execution_count": null,
   "metadata": {},
   "outputs": [],
   "source": [
    "def plot_motif_cooccurrence_heatmap(count_matrix, motif_keys):\n",
    "    \"\"\"\n",
    "    Plots a heatmap showing the number of peaks that have both types of\n",
    "    each motif.\n",
    "    \"\"\"\n",
    "    num_motifs = count_matrix.shape[0]\n",
    "    inds = cluster_matrix_indices(count_matrix, max(5, num_motifs // 4))\n",
    "    count_matrix = count_matrix[inds][:, inds]\n",
    "    motif_keys = np.array(motif_keys)[inds]\n",
    "    \n",
    "    fig_width = max(5, num_motifs)\n",
    "    fig, ax = plt.subplots(figsize=(fig_width, fig_width))\n",
    "    hmap = ax.imshow(count_matrix)\n",
    "\n",
    "    ax.set_xticks(np.arange(num_motifs))\n",
    "    ax.set_yticks(np.arange(num_motifs))\n",
    "    ax.set_xticklabels(motif_keys, rotation=45)\n",
    "    ax.set_yticklabels(motif_keys)\n",
    "\n",
    "    # Loop over data dimensions and create text annotations.\n",
    "    for i in range(num_motifs):\n",
    "        for j in range(num_motifs):\n",
    "            ax.text(j, i, count_matrix[i, j], ha=\"center\", va=\"center\")\n",
    "    fig.colorbar(hmap, orientation=\"horizontal\")\n",
    "\n",
    "    ax.set_title(\"Number of peaks with both motifs\")\n",
    "    fig.tight_layout()\n",
    "    plt.show()"
   ]
  },
  {
   "cell_type": "code",
   "execution_count": null,
   "metadata": {},
   "outputs": [],
   "source": [
    "def plot_homotypic_densities(peak_hit_counts, motif_keys):\n",
    "    \"\"\"\n",
    "    Plots a CDF of number of motif hits per peak, for each motif.\n",
    "    \"\"\"\n",
    "    for i in range(len(motif_keys)):\n",
    "        counts = peak_hit_counts[:, i]\n",
    "        \n",
    "        fig, ax = plt.subplots(figsize=(8, 8))\n",
    "        bins = np.concatenate([np.arange(np.max(counts)), [np.inf]])\n",
    "        ax.hist(counts, bins=bins, density=True, histtype=\"step\", cumulative=True)\n",
    "        ax.set_title(\"Cumulative distribution of number of %s hits per peak\" % motif_keys[i])\n",
    "        ax.set_xlabel(\"Number of motifs k in peak\")\n",
    "        ax.set_ylabel(\"Proportion of peaks with at least k motifs\")\n",
    "        plt.show()"
   ]
  },
  {
   "cell_type": "code",
   "execution_count": null,
   "metadata": {},
   "outputs": [],
   "source": [
    "def get_significant_cooccurrence_pairs(peak_hit_counts, pval_thresh=1e-9):\n",
    "    \"\"\"\n",
    "    Given the number of motif hits in each peak, computes the pairs of motifs\n",
    "    (self pairs are allowed) that are significant. `num_peaks` is the total\n",
    "    number of peaks. Returns a list of pairs of indices that pass the p-value\n",
    "    threshold, in ascending order by significance.\n",
    "    \"\"\"\n",
    "    peak_hit_indicators = (peak_hit_counts > 0).astype(int)\n",
    "    num_peaks, num_motifs = peak_hit_counts.shape\n",
    "    \n",
    "    # Significance is based on a binomial test. If the motifs were present\n",
    "    # in peaks randomly, we'd independence of occurrence.\n",
    "    # For self-co-occurrence, the null model is not independence, but\n",
    "    # collisions\n",
    "    pairs, pvals = [], []\n",
    "    for i in range(num_motifs):\n",
    "        for j in range(i):\n",
    "            pair_counts = peak_hit_indicators[:, [i, j]]\n",
    "            peaks_with_1 = np.sum(pair_counts[:, 0])\n",
    "            peaks_with_2 = np.sum(pair_counts[:, 1])\n",
    "            peaks_with_both = np.sum(np.sum(pair_counts, axis=1) == 2)\n",
    "            prob_if_indep = (peaks_with_1 / num_peaks) * (peaks_with_2 / num_peaks)\n",
    "            pval = scipy.stats.binom_test(\n",
    "                peaks_with_both, n=num_peaks, p=prob_if_indep, alternative=\"greater\"\n",
    "            )\n",
    "            if pval < pval_thresh:\n",
    "                pvals.append(pval)\n",
    "                pairs.append((i, j))\n",
    "        # Self-co-occurrence: Poissonize balls in bins\n",
    "        # Expected number of collisions (via linearity of expectations):\n",
    "        num_hits = np.sum(peak_hit_indicators[:, i])  # number of \"balls\"\n",
    "        expected_collisions = num_hits * (num_hits - 1) / (2 * num_peaks)\n",
    "        num_collisions = np.sum(peak_hit_counts[:, i] >= 2)\n",
    "        pval = 1 - scipy.stats.poisson.cdf(num_collisions, mu=expected_collisions)\n",
    "        if pval < pval_thresh:\n",
    "            pvals.append(pval)\n",
    "            pairs.append((i, i))\n",
    "    \n",
    "    inds = np.argsort(pvals)\n",
    "    return [tuple(pair) for pair in np.array(pairs)[inds]]"
   ]
  },
  {
   "cell_type": "code",
   "execution_count": null,
   "metadata": {},
   "outputs": [],
   "source": [
    "def create_violin_plot(ax, dist_list, colors):\n",
    "    \"\"\"\n",
    "    Creates a violin plot on the given instantiated axes.\n",
    "    `dist_list` is a list of vectors. `colors` is a parallel\n",
    "    list of colors for each violin.\n",
    "    \"\"\"\n",
    "    num_perfs = len(dist_list)\n",
    "\n",
    "    q1, med, q3 = np.stack([\n",
    "        np.nanpercentile(data, [25, 50, 70], axis=0) for data in dist_list\n",
    "    ], axis=1)\n",
    "    iqr = q3 - q1\n",
    "    lower_outlier = q1 - (1.5 * iqr)\n",
    "    upper_outlier = q3 + (1.5 * iqr)\n",
    "\n",
    "\n",
    "    sorted_clipped_data = [  # Remove outliers based on outlier rule\n",
    "        np.sort(vec[(vec >= lower_outlier[i]) & (vec <= upper_outlier[i])])\n",
    "        for i, vec in enumerate(dist_list)\n",
    "    ]\n",
    "\n",
    "    plot_parts = ax.violinplot(\n",
    "        sorted_clipped_data, showmeans=False, showmedians=False, showextrema=False\n",
    "    )\n",
    "    violin_parts = plot_parts[\"bodies\"]\n",
    "    for i in range(num_perfs):\n",
    "        violin_parts[i].set_facecolor(colors[i])\n",
    "        violin_parts[i].set_edgecolor(colors[i])\n",
    "        violin_parts[i].set_alpha(0.7)\n",
    "\n",
    "    inds = np.arange(1, num_perfs + 1)\n",
    "    ax.vlines(inds, q1, q3, color=\"black\", linewidth=5, zorder=1)\n",
    "    ax.scatter(inds, med, marker=\"o\", color=\"white\", s=30, zorder=2)"
   ]
  },
  {
   "cell_type": "code",
   "execution_count": null,
   "metadata": {},
   "outputs": [],
   "source": [
    "def plot_intermotif_distance_violins(peak_hits, motif_keys, pair_inds):\n",
    "    \"\"\"\n",
    "    For each pair of motifs, plots a violin of distances beween\n",
    "    motifs. \n",
    "    \"\"\"\n",
    "    # First, compute the distribution of distances for each pair\n",
    "    distances = []\n",
    "    for i, j in tqdm.notebook.tqdm(pair_inds):\n",
    "        dists = []\n",
    "        for k in range(len(peak_hits)):\n",
    "            hits = peak_hits[k]\n",
    "\n",
    "            hits_1 = hits[hits[\"key\"] == motif_keys[i]]\n",
    "            hits_2 = hits[hits[\"key\"] == motif_keys[j]]\n",
    "\n",
    "            if hits_1.empty or hits_2.empty:\n",
    "                continue\n",
    "\n",
    "            pos_1 = np.array(hits_1[\"start\"])\n",
    "            pos_2 = np.array(hits_2[\"start\"])\n",
    "\n",
    "            len_1 = (hits_1[\"end\"] - hits_1[\"start\"]).values[0]\n",
    "            len_2 = (hits_2[\"end\"] - hits_2[\"start\"]).values[0]\n",
    "\n",
    "            # Differences beteween all pairs of positions\n",
    "            diffs = pos_2[None] - pos_1[:, None]\n",
    "            # Take minimum distance for each instance of motif 2, but only\n",
    "            # if the distance is an appropriate length\n",
    "            for row in diffs:\n",
    "                row = row[row != 0]\n",
    "                if not row.size:\n",
    "                    continue\n",
    "                dist = row[np.argmin(np.abs(row))]\n",
    "                if (dist < 0 and dist < -len_2) or (dist > 0 and dist > len_1):\n",
    "                    dists.append(dist)\n",
    "        dists = np.array(dists)\n",
    "        if not dists.size:\n",
    "            continue\n",
    "        distances.append(np.abs(dists))  # Take absolute value of distance\n",
    "    \n",
    "    # Plot the violins\n",
    "    fig, ax = plt.subplots(figsize=(int(1.7 * len(pair_inds)), 8))\n",
    "    create_violin_plot(ax, distances, [\"mediumorchid\"] * len(pair_inds))\n",
    "    ax.set_title(\"Signed distance distributions between motif instances\")\n",
    "    ax.set_xticks(np.arange(1, len(pair_inds) + 1))\n",
    "    ax.set_xticklabels([\"%s/%s\" % (motif_keys[i], motif_keys[j]) for i, j in pair_inds], rotation=90)\n",
    "    plt.show()"
   ]
  },
  {
   "cell_type": "markdown",
   "metadata": {},
   "source": [
    "## Import TF-MoDISco results"
   ]
  },
  {
   "cell_type": "code",
   "execution_count": null,
   "metadata": {},
   "outputs": [],
   "source": [
    "# Import the PFMs\n",
    "pfms = import_tfmodisco_motifs(tfm_results_path)\n",
    "motif_keys = list(pfms.keys())"
   ]
  },
  {
   "cell_type": "code",
   "execution_count": null,
   "metadata": {},
   "outputs": [],
   "source": [
    "# Run MOODS\n",
    "hit_table = moods.get_moods_hits(\n",
    "    pfms, reference_fasta, peak_bed_paths[0], expand_peak_length=input_length, temp_dir=moods_dir\n",
    ")"
   ]
  },
  {
   "cell_type": "code",
   "execution_count": null,
   "metadata": {},
   "outputs": [],
   "source": [
    "# Import peaks\n",
    "peak_table = util.import_peak_table(peak_bed_paths)\n",
    "\n",
    "# Expand to input length\n",
    "peak_table[\"peak_start\"] = \\\n",
    "    (peak_table[\"peak_start\"] + peak_table[\"summit_offset\"]) - (input_length // 2)\n",
    "peak_table[\"peak_end\"] = peak_table[\"peak_start\"] + input_length"
   ]
  },
  {
   "cell_type": "code",
   "execution_count": null,
   "metadata": {},
   "outputs": [],
   "source": [
    "# Import DeepSHAP scores\n",
    "hyp_scores, act_scores, one_hot_seqs, shap_coords = util.import_shap_scores(\n",
    "    shap_scores_path, hyp_score_key, center_cut_size=None, remove_non_acgt=False\n",
    ")"
   ]
  },
  {
   "cell_type": "code",
   "execution_count": null,
   "metadata": {},
   "outputs": [],
   "source": [
    "# Match peaks to motif hits\n",
    "peak_hits = get_peak_hits(peak_table, hit_table)"
   ]
  },
  {
   "cell_type": "code",
   "execution_count": null,
   "metadata": {},
   "outputs": [],
   "source": [
    "# Construct count array of peaks and hits\n",
    "peak_hit_counts = get_peak_motif_counts(peak_hits, motif_keys)"
   ]
  },
  {
   "cell_type": "code",
   "execution_count": null,
   "metadata": {},
   "outputs": [],
   "source": [
    "# Construct count matrix of motif co-occurrence\n",
    "motif_cooccurrence_count_matrix = get_motif_cooccurrence_count_matrix(peak_hit_counts)"
   ]
  },
  {
   "cell_type": "markdown",
   "metadata": {},
   "source": [
    "<a id=\"peaks-with-hits\"></a>\n",
    "### Proportion of peaks with hits"
   ]
  },
  {
   "cell_type": "code",
   "execution_count": null,
   "metadata": {},
   "outputs": [],
   "source": [
    "motifs_per_peak = [len(hits) for hits in peak_hits]\n",
    "max_hits = 5\n",
    "\n",
    "fig, ax = plt.subplots(figsize=(10, 10))\n",
    "bins = np.concatenate([np.arange(max_hits + 1), [np.inf]])\n",
    "ax.hist(motifs_per_peak, bins=bins, density=True, histtype=\"step\", cumulative=True)\n",
    "ax.set_title(\"Cumulative distribution of number of motif hits per peak\")\n",
    "ax.set_xlabel(\"Number of motifs k in peak\")\n",
    "ax.set_ylabel(\"Proportion of peaks with at least k motifs\")\n",
    "plt.show()"
   ]
  },
  {
   "cell_type": "code",
   "execution_count": null,
   "metadata": {},
   "outputs": [],
   "source": [
    "frac_peaks_with_motif = np.sum(peak_hit_counts > 0, axis=0) / len(peak_hit_counts)\n",
    "labels = np.array(motif_keys)\n",
    "sorted_inds = np.flip(np.argsort(frac_peaks_with_motif))\n",
    "frac_peaks_with_motif = frac_peaks_with_motif[sorted_inds]\n",
    "labels = labels[sorted_inds]\n",
    "\n",
    "fig, ax = plt.subplots(figsize=(20, 8))\n",
    "ax.bar(np.arange(len(labels)), frac_peaks_with_motif)\n",
    "ax.set_title(\"Proportion of peaks with each motif\")\n",
    "ax.set_xticks(np.arange(len(labels)))\n",
    "ax.set_xticklabels(labels)\n",
    "plt.show()"
   ]
  },
  {
   "cell_type": "markdown",
   "metadata": {},
   "source": [
    "<a id=\"example-hits\"></a>\n",
    "### Examples of motif hits in sequences"
   ]
  },
  {
   "cell_type": "code",
   "execution_count": null,
   "metadata": {
    "scrolled": false
   },
   "outputs": [],
   "source": [
    "# Show some examples of sequences with motif hits\n",
    "num_to_draw = 3\n",
    "unique_counts = np.sort(np.unique(motifs_per_peak))\n",
    "motif_nums = []\n",
    "if 0 in motifs_per_peak:\n",
    "    motif_nums.append(0)\n",
    "if 1 in motifs_per_peak:\n",
    "    motif_nums.append(1)\n",
    "motif_nums.extend([\n",
    "    unique_counts[0],  # Minimum\n",
    "    unique_counts[len(unique_counts) // 2],  # Median\n",
    "    unique_counts[-1],  # Maximum\n",
    "])\n",
    "\n",
    "for motif_num in np.sort(np.unique(motif_nums)):\n",
    "    display(vdomh.h4(\"Sequences with %d motif hits\" % motif_num))\n",
    "    \n",
    "    peak_inds = np.where(motifs_per_peak == motif_num)[0]\n",
    "    table_rows = []\n",
    "    for i in np.random.choice(\n",
    "        peak_inds, size=min(num_to_draw, len(peak_inds)), replace=False\n",
    "    ):\n",
    "        peak_coord = peak_table.iloc[i][[\"chrom\", \"peak_start\", \"peak_end\"]].values\n",
    "        motif_hits = peak_hits[i]\n",
    "        \n",
    "        chrom, peak_start, peak_end = peak_coord\n",
    "        peak_len = peak_end - peak_start\n",
    "        mask = (shap_coords[:, 0] == chrom) & (shap_coords[:, 1] <= peak_start) & (shap_coords[:, 2] >= peak_end)\n",
    "        if not np.sum(mask):\n",
    "            fig = \"No matching input sequence found\"\n",
    "            table_rows.append(\n",
    "                vdomh.tr(\n",
    "                    vdomh.td(\"%s:%d-%d\" % (chrom, peak_start, peak_end)),\n",
    "                    vdomh.td(fig)\n",
    "                )\n",
    "            )\n",
    "            continue\n",
    "            \n",
    "        seq_index = np.where(mask)[0][0]  # Pick one\n",
    "        imp_scores = act_scores[seq_index]\n",
    "        _, seq_start, seq_end = shap_coords[seq_index]\n",
    "        \n",
    "        highlights = []\n",
    "        for _, row in motif_hits.iterrows():\n",
    "            start = row[\"start\"] - peak_start\n",
    "            end = start + (row[\"end\"] - row[\"start\"])\n",
    "            highlights.append((start, end))\n",
    "        \n",
    "        # Remove highlights that overrun the sequence\n",
    "        highlights = [(a, b) for a, b in highlights if a >= 0 and b < peak_len]\n",
    "        \n",
    "        start = peak_start - seq_start \n",
    "        end = start + peak_len\n",
    "        imp_scores_peak = imp_scores[start:end]\n",
    "        \n",
    "        fig = viz_sequence.plot_weights(\n",
    "            imp_scores_peak, subticks_frequency=(len(imp_scores_peak) + 1),\n",
    "            highlight={\"red\" : [pair for pair in highlights]},\n",
    "            return_fig=True\n",
    "        )\n",
    "        fig = util.figure_to_vdom_image(fig)\n",
    "        \n",
    "        table_rows.append(\n",
    "            vdomh.tr(\n",
    "                vdomh.td(\"%s:%d-%d\" % (chrom, peak_start, peak_end)),\n",
    "                vdomh.td(fig)\n",
    "            )\n",
    "        )\n",
    "\n",
    "    table = vdomh.table(*table_rows)\n",
    "    display(table)\n",
    "    plt.close(\"all\")"
   ]
  },
  {
   "cell_type": "markdown",
   "metadata": {},
   "source": [
    "<a id=\"co-occurrence\"></a>\n",
    "### Co-occurrence of motifs\n",
    "Proportion of time that motifs co-occur with each other in peaks"
   ]
  },
  {
   "cell_type": "code",
   "execution_count": null,
   "metadata": {},
   "outputs": [],
   "source": [
    "plot_peak_motif_indicator_heatmap(peak_hit_counts, motif_keys)"
   ]
  },
  {
   "cell_type": "code",
   "execution_count": null,
   "metadata": {},
   "outputs": [],
   "source": [
    "plot_motif_cooccurrence_heatmap(motif_cooccurrence_count_matrix, motif_keys)"
   ]
  },
  {
   "cell_type": "markdown",
   "metadata": {},
   "source": [
    "<a id=\"density\"></a>\n",
    "### Homotypic motif densities\n",
    "For each motif, show how many the motif occurs in each peak"
   ]
  },
  {
   "cell_type": "code",
   "execution_count": null,
   "metadata": {
    "scrolled": false
   },
   "outputs": [],
   "source": [
    "plot_homotypic_densities(peak_hit_counts, motif_keys)"
   ]
  },
  {
   "cell_type": "markdown",
   "metadata": {},
   "source": [
    "<a id=\"distance\"></a>\n",
    "### Distribution of distances between motifs\n",
    "When motifs co-occur, show the distance between the instances"
   ]
  },
  {
   "cell_type": "code",
   "execution_count": null,
   "metadata": {},
   "outputs": [],
   "source": [
    "sig_pairs = get_significant_cooccurrence_pairs(peak_hit_counts)"
   ]
  },
  {
   "cell_type": "code",
   "execution_count": null,
   "metadata": {},
   "outputs": [],
   "source": [
    "plot_intermotif_distance_violins(peak_hits, motif_keys, sig_pairs)"
   ]
  }
 ],
 "metadata": {
  "kernelspec": {
   "display_name": "Python 3",
   "language": "python",
   "name": "python3"
  },
  "language_info": {
   "codemirror_mode": {
    "name": "ipython",
    "version": 3
   },
   "file_extension": ".py",
   "mimetype": "text/x-python",
   "name": "python",
   "nbconvert_exporter": "python",
   "pygments_lexer": "ipython3",
   "version": "3.7.7"
  }
 },
 "nbformat": 4,
 "nbformat_minor": 4
}
