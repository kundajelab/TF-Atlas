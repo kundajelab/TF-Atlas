{
 "cells": [
  {
   "cell_type": "code",
   "execution_count": null,
   "metadata": {},
   "outputs": [],
   "source": [
    "import moods\n",
    "import util\n",
    "import os\n",
    "import numpy as np\n",
    "import matplotlib.pyplot as plt\n",
    "import matplotlib.font_manager as font_manager\n",
    "import tqdm\n",
    "tqdm.tqdm_notebook()"
   ]
  },
  {
   "cell_type": "code",
   "execution_count": null,
   "metadata": {},
   "outputs": [],
   "source": [
    "# Plotting defaults\n",
    "font_manager.fontManager.ttflist.extend(\n",
    "    font_manager.createFontList(\n",
    "        font_manager.findSystemFonts(fontpaths=\"/users/amtseng/modules/fonts\")\n",
    "    )\n",
    ")\n",
    "plot_params = {\n",
    "    \"figure.titlesize\": 22,\n",
    "    \"axes.titlesize\": 22,\n",
    "    \"axes.labelsize\": 20,\n",
    "    \"legend.fontsize\": 18,\n",
    "    \"font.size\": 13,\n",
    "    \"xtick.labelsize\": 16,\n",
    "    \"ytick.labelsize\": 16,\n",
    "    \"font.family\": \"Roboto\",\n",
    "    \"font.weight\": \"bold\"\n",
    "}\n",
    "plt.rcParams.update(plot_params)"
   ]
  },
  {
   "cell_type": "markdown",
   "metadata": {},
   "source": [
    "### Define constants and paths"
   ]
  },
  {
   "cell_type": "code",
   "execution_count": null,
   "metadata": {},
   "outputs": [],
   "source": [
    "expids = [\n",
    "    \"ENCSR000BGZ\",\n",
    "    \"ENCSR725VFL\",\n",
    "    \"ENCSR240PRQ\",\n",
    "    \"ENCSR000DTO\",\n",
    "    \"ENCSR000BSE\",\n",
    "    \"ENCSR000EFS\",\n",
    "    \"ENCSR000FAH\",\n",
    "    \"ENCSR000EWG\",\n",
    "    \"ENCSR000BKM\"\n",
    "]\n",
    "peakids = [\n",
    "    \"ENCFF068YYR\",\n",
    "    \"ENCFF154RAJ\",\n",
    "    \"ENCFF463FGL\",\n",
    "    \"ENCFF832INR\",\n",
    "    \"ENCFF273SBR\",\n",
    "    \"ENCFF190CGV\",\n",
    "    \"ENCFF589QXC\",\n",
    "    \"ENCFF497ISV\",\n",
    "    \"ENCFF242YZU\"\n",
    "]\n",
    "keys = [\"profile\", \"counts\"]\n",
    "\n",
    "moods_dirs = {\n",
    "    (expid, key) : os.path.join(\"/mnt/lab_data2/amtseng/tf_atlas/results/moods\", expid, key)\n",
    "    for expid in expids for key in keys \n",
    "}\n",
    "peak_bed_paths = {\n",
    "    expids[i] : os.path.join(\"/users/zahoor/TF-Atlas/data/idr_peaks/\", peakid + \".bed.gz\")\n",
    "    for i, peakid in enumerate(peakids)\n",
    "}"
   ]
  },
  {
   "cell_type": "code",
   "execution_count": null,
   "metadata": {},
   "outputs": [],
   "source": [
    "fdrs = np.arange(0.05, 1.05, 0.05)"
   ]
  },
  {
   "cell_type": "markdown",
   "metadata": {},
   "source": [
    "### Helper functions\n",
    "For plotting and organizing things"
   ]
  },
  {
   "cell_type": "code",
   "execution_count": null,
   "metadata": {},
   "outputs": [],
   "source": [
    "def get_peak_hit_counts(hit_table, num_peaks):\n",
    "    \"\"\"\n",
    "    For each peak, extracts the number of motif hits that fall in that peak.\n",
    "    Returns a list mapping peak index to a subtable of `hit_table`. The index\n",
    "    of the list is the index of the peak table.\n",
    "    \"\"\"\n",
    "    peak_hit_counts = np.zeros(num_peaks, dtype=int)\n",
    "    for peak_index, matches in hit_table.groupby(\"peak_index\"):\n",
    "        peak_hit_counts[peak_index] = len(matches)\n",
    "    return peak_hit_counts"
   ]
  },
  {
   "cell_type": "code",
   "execution_count": null,
   "metadata": {},
   "outputs": [],
   "source": [
    "def get_peak_hit_counts_for_fdrs(hit_tables, peak_counts, fdrs):\n",
    "    \"\"\"\n",
    "    Returns dictionary mapping hit table key to N x F array of hit counts,\n",
    "    where N is the number of peaks and F is the number of FDR values to\n",
    "    test. This tells us the number of hits in each peak for each FDR\n",
    "    cutoff.\n",
    "    \"\"\"\n",
    "    all_peak_hit_counts = {}\n",
    "    for key, hit_table in tqdm.notebook.tqdm(hit_tables.items()):\n",
    "        expid = key[0]\n",
    "        num_peaks = peak_counts[expid]\n",
    "\n",
    "        # For each FDR, compute the maximum p-value threshold\n",
    "        all_pvals = np.sort(hit_table[\"imp_pval\"].values)\n",
    "        pval_threshes = []\n",
    "        for fdr in fdrs:\n",
    "            bh_crit_vals = fdr * np.arange(1, len(all_pvals) + 1) / len(all_pvals)\n",
    "            pval_thresh = all_pvals[np.max(np.where(all_pvals <= bh_crit_vals)[0])]\n",
    "            pval_threshes.append(pval_thresh)\n",
    "        pval_threshes = np.array(pval_threshes)\n",
    "        \n",
    "        # For each peak, compute the number of hits for each p-value threshold\n",
    "        peak_hit_counts = np.zeros((num_peaks, len(fdrs)), dtype=int)\n",
    "        for peak_index, matches in hit_table.groupby(\"peak_index\"):\n",
    "            if matches.empty:\n",
    "                continue\n",
    "            pvals = np.sort(matches[\"imp_pval\"].values)\n",
    "            peak_hit_counts[peak_index] = np.searchsorted(pvals, pval_threshes, side=\"right\")\n",
    "        \n",
    "        all_peak_hit_counts[key] = peak_hit_counts\n",
    "    return all_peak_hit_counts"
   ]
  },
  {
   "cell_type": "markdown",
   "metadata": {},
   "source": [
    "### Import hit results"
   ]
  },
  {
   "cell_type": "code",
   "execution_count": null,
   "metadata": {},
   "outputs": [],
   "source": [
    "# Import MOODS hit tables\n",
    "hit_tables = {\n",
    "    key : moods.import_moods_hits(os.path.join(moods_dir, \"moods_filtered_collapsed_tested.bed\"))\n",
    "    for key, moods_dir in moods_dirs.items()\n",
    "}"
   ]
  },
  {
   "cell_type": "code",
   "execution_count": null,
   "metadata": {},
   "outputs": [],
   "source": [
    "# Import peaks counts\n",
    "peak_counts = {\n",
    "    expid : len(util.import_peak_table([path])) for expid, path in peak_bed_paths.items()\n",
    "}"
   ]
  },
  {
   "cell_type": "code",
   "execution_count": null,
   "metadata": {
    "scrolled": true
   },
   "outputs": [],
   "source": [
    "all_peak_hit_counts = get_peak_hit_counts_for_fdrs(hit_tables, peak_counts, fdrs)"
   ]
  },
  {
   "cell_type": "markdown",
   "metadata": {},
   "source": [
    "### Show peak hit count statistics"
   ]
  },
  {
   "cell_type": "code",
   "execution_count": null,
   "metadata": {},
   "outputs": [],
   "source": [
    "# FDR vs total hits : number of peaks\n",
    "total_hits = {key : np.sum(all_peak_hit_counts[key], axis=0) for key in hit_tables}\n",
    "avg_hits_per_peak = {key : hits / peak_counts[key[0]] for key, hits in total_hits.items()}\n",
    "fig, ax = plt.subplots(figsize=(20, 20))\n",
    "for key, rats in avg_hits_per_peak.items():\n",
    "    ax.plot(fdrs, rats, label=(\"%s_%s\" % key))\n",
    "ax.set_xlabel(\"FDR cutoff\")\n",
    "ax.set_xticks(fdrs)\n",
    "ax.set_ylabel(\"Average number of motif hits per peak\")\n",
    "ax.set_title(\"FDR vs motif hits per peak\")\n",
    "plt.legend()\n",
    "plt.show()"
   ]
  },
  {
   "cell_type": "code",
   "execution_count": null,
   "metadata": {},
   "outputs": [],
   "source": [
    "# FDR vs proportion of peaks with 0 hits\n",
    "num_zeros = {key : np.sum(all_peak_hit_counts[key] == 0, axis=0) for key in hit_tables}\n",
    "prop_zeros = {key : nums / peak_counts[key[0]] for key, nums in num_zeros.items()}\n",
    "fig, ax = plt.subplots(figsize=(20, 20))\n",
    "for key, nums in prop_zeros.items():\n",
    "    ax.plot(fdrs, nums, label=(\"%s_%s\" % key))\n",
    "ax.set_xlabel(\"FDR cutoff\")\n",
    "ax.set_xticks(fdrs)\n",
    "ax.set_ylabel(\"Proportion of peaks with 0 hits\")\n",
    "ax.set_title(\"FDR vs peaks with no hits\")\n",
    "plt.legend()\n",
    "plt.show()"
   ]
  },
  {
   "cell_type": "code",
   "execution_count": null,
   "metadata": {},
   "outputs": [],
   "source": [
    "# FDR vs 99th quantile of number of hits/peak\n",
    "top_quants = {key : np.quantile(all_peak_hit_counts[key], 0.99, axis=0) for key in hit_tables}\n",
    "fig, ax = plt.subplots(figsize=(20, 20))\n",
    "for key, vals in top_quants.items():\n",
    "    ax.plot(fdrs, vals, label=(\"%s_%s\" % key))\n",
    "ax.set_xlabel(\"FDR cutoff\")\n",
    "ax.set_xticks(fdrs)\n",
    "ax.set_ylabel(\"99th quantile of number of motif hits per peak\")\n",
    "ax.set_title(\"FDR vs 99th quantile of hits per peak\")\n",
    "plt.legend()\n",
    "plt.show()"
   ]
  }
 ],
 "metadata": {
  "kernelspec": {
   "display_name": "Python 3",
   "language": "python",
   "name": "python3"
  },
  "language_info": {
   "codemirror_mode": {
    "name": "ipython",
    "version": 3
   },
   "file_extension": ".py",
   "mimetype": "text/x-python",
   "name": "python",
   "nbconvert_exporter": "python",
   "pygments_lexer": "ipython3",
   "version": "3.7.7"
  }
 },
 "nbformat": 4,
 "nbformat_minor": 4
}
